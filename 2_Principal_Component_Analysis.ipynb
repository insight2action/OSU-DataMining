{
  "nbformat": 4,
  "nbformat_minor": 0,
  "metadata": {
    "kernelspec": {
      "display_name": "Python 3",
      "language": "python",
      "name": "python3"
    },
    "language_info": {
      "codemirror_mode": {
        "name": "ipython",
        "version": 3
      },
      "file_extension": ".py",
      "mimetype": "text/x-python",
      "name": "python",
      "nbconvert_exporter": "python",
      "pygments_lexer": "ipython3",
      "version": "3.6.0"
    },
    "latex_envs": {
      "LaTeX_envs_menu_present": true,
      "autoclose": false,
      "autocomplete": true,
      "bibliofile": "biblio.bib",
      "cite_by": "apalike",
      "current_citInitial": 1,
      "eqLabelWithNumbers": true,
      "eqNumInitial": 1,
      "hotkeys": {
        "equation": "Ctrl-E",
        "itemize": "Ctrl-I"
      },
      "labels_anchors": false,
      "latex_user_defs": false,
      "report_style_numbering": false,
      "user_envs_cfg": false
    },
    "colab": {
      "name": "2_Principal_Component_Analysis.ipynb",
      "provenance": [],
      "collapsed_sections": [],
      "toc_visible": true,
      "include_colab_link": true
    }
  },
  "cells": [
    {
      "cell_type": "markdown",
      "metadata": {
        "id": "view-in-github",
        "colab_type": "text"
      },
      "source": [
        "<a href=\"https://colab.research.google.com/github/insight2action/OSU-DataMining/blob/main/2_Principal_Component_Analysis.ipynb\" target=\"_parent\"><img src=\"https://colab.research.google.com/assets/colab-badge.svg\" alt=\"Open In Colab\"/></a>"
      ]
    },
    {
      "cell_type": "markdown",
      "metadata": {
        "id": "9DAu8kwM-eEt"
      },
      "source": [
        "### CSE 5243:  Spring 2020\n",
        "\n",
        "# Principal Component Analysis\n",
        "\n",
        "updated by J. Van Hulse, January 2020\n",
        "\n",
        "references:\n",
        "* *Data Mining and Analysis*, Zaki and Miera Jr\n",
        "* *Introduction to Data Mining* by Tan, Steinbach, Karpatne, and Kumar\n",
        "***\n",
        "\n",
        "This notebook provides a demonstration of *Principal Component Analysis (PCA)*, a commonly-used dimensionality reduction technique in Data Mining. \n",
        "\n",
        "The goal of PCA is to find a lower-dimensional projection of the data such that:\n",
        "\n",
        "* Each pair of new attributes has a covariance of 0\n",
        "* The attributes are ordered with respect to how much of the variance of the data each attribute captures\n",
        "* The first attribute (the first principal component) captures as much of the variance in the data as possible\n",
        "* Each successive attribute captures as much of the remaining variance as possible, subject to the orthogonality requirement. \n",
        "\n",
        "In many real-world applications, much of the variability in the data can be captured by a small fraction of the total number of dimensions, hence achieving the goal of dimensionality reduction. "
      ]
    },
    {
      "cell_type": "code",
      "metadata": {
        "collapsed": true,
        "id": "IEJkTgOG-eE2"
      },
      "source": [
        "import numpy as np\n",
        "import pandas as pd\n",
        "from sklearn.datasets import make_regression\n",
        "from sklearn.decomposition import PCA\n",
        "from sklearn.preprocessing import StandardScaler\n",
        "\n",
        "#matplotlib and seaborn as used for data visualization\n",
        "import matplotlib.pyplot as plt\n",
        "%matplotlib inline\n",
        "import seaborn as sns"
      ],
      "execution_count": 1,
      "outputs": []
    },
    {
      "cell_type": "markdown",
      "metadata": {
        "id": "nmj3QaKT_u8_"
      },
      "source": [
        "# PCA Using Simulated Data\n",
        "\n",
        "Create a simulated dataset with two features: `var1` and `var2`. "
      ]
    },
    {
      "cell_type": "code",
      "metadata": {
        "id": "7LT3Hh-M_rdY"
      },
      "source": [
        "X, y = make_regression(n_samples=100, n_features=1, noise=24, random_state = 42, bias = 5)\n",
        "\n",
        "#X is shape (100,1) - let's flatten it using the reshape method\n",
        "var1 = 5+X.reshape((-1,))\n",
        "var2 = 4+y/100\n",
        "#var1 and var2 are both type ndarray with shape (100,)\n"
      ],
      "execution_count": 2,
      "outputs": []
    },
    {
      "cell_type": "markdown",
      "metadata": {
        "id": "93y1wUcMRYeQ"
      },
      "source": [
        "Before performing Principal Component Analysis, it is important to transform the independent variables to be on the same scale. The `StandardScalar` package within `Scikit-learn` subtracts the mean and divides by the standard deviation, resulting in transformed variables with a mean of 0 and standard deviation of 1. "
      ]
    },
    {
      "cell_type": "code",
      "metadata": {
        "colab": {
          "base_uri": "https://localhost:8080/"
        },
        "id": "m9_h7XD8Mx63",
        "outputId": "e936d4c7-dba4-4569-97a6-665026aabd77"
      },
      "source": [
        "x= pd.DataFrame({'var1':var1, 'var2':var2})\n",
        "x = pd.DataFrame(StandardScaler().fit_transform(x))\n",
        "\n",
        "pd.options.display.float_format = \"{:.2f}\".format\n",
        "\n",
        "print(\"Means: \", x.mean())\n",
        "print(\"Standard Deviations:\", x.std())"
      ],
      "execution_count": 3,
      "outputs": [
        {
          "output_type": "stream",
          "text": [
            "Means:  0   -0.00\n",
            "1   -0.00\n",
            "dtype: float64\n",
            "Standard Deviations: 0   1.01\n",
            "1   1.01\n",
            "dtype: float64\n"
          ],
          "name": "stdout"
        }
      ]
    },
    {
      "cell_type": "code",
      "metadata": {
        "colab": {
          "base_uri": "https://localhost:8080/",
          "height": 298
        },
        "id": "CPk-UPGIDUin",
        "outputId": "106c5f0b-5b9f-4d1d-b430-ea74892c91a1"
      },
      "source": [
        "plt.scatter(x[0], x[1])\n",
        "plt.title(\"Scatterplot for Standardized Data\")\n",
        "plt.show()\n",
        "\n",
        "print(\"The correlation between var1 and var2 is: \", np.corrcoef(x[0], x[1])[0,1])"
      ],
      "execution_count": 4,
      "outputs": [
        {
          "output_type": "display_data",
          "data": {
            "image/png": "[encoded data removed]",
            "text/plain": [
              "<Figure size 432x288 with 1 Axes>"
            ]
          },
          "metadata": {
            "tags": [],
            "needs_background": "light"
          }
        },
        {
          "output_type": "stream",
          "text": [
            "The correlation between var1 and var2 is:  0.8991547846502501\n"
          ],
          "name": "stdout"
        }
      ]
    },
    {
      "cell_type": "markdown",
      "metadata": {
        "id": "QJCIByIimReK"
      },
      "source": [
        "## Fitting the PCA Model"
      ]
    },
    {
      "cell_type": "code",
      "metadata": {
        "colab": {
          "base_uri": "https://localhost:8080/"
        },
        "id": "gBAjYawC_0dh",
        "outputId": "c482601e-5adf-4a92-db7f-e38f3fe185c0"
      },
      "source": [
        "pca = PCA()\n",
        "\n",
        "pca.fit(x)"
      ],
      "execution_count": 5,
      "outputs": [
        {
          "output_type": "execute_result",
          "data": {
            "text/plain": [
              "PCA(copy=True, iterated_power='auto', n_components=None, random_state=None,\n",
              "    svd_solver='auto', tol=0.0, whiten=False)"
            ]
          },
          "metadata": {
            "tags": []
          },
          "execution_count": 5
        }
      ]
    },
    {
      "cell_type": "code",
      "metadata": {
        "colab": {
          "base_uri": "https://localhost:8080/"
        },
        "id": "9cUnRJWgAXO2",
        "outputId": "51f7885b-bd1e-411c-ff04-25d4f0054d97"
      },
      "source": [
        "first_pc = pca.components_[0,:]\n",
        "print(\"The first principal component is: \", first_pc)\n",
        "second_pc = pca.components_[1,:]\n",
        "print(\"The second principal component is: \", second_pc)"
      ],
      "execution_count": 6,
      "outputs": [
        {
          "output_type": "stream",
          "text": [
            "The first principal component is:  [-0.70710678 -0.70710678]\n",
            "The second principal component is:  [-0.70710678  0.70710678]\n"
          ],
          "name": "stdout"
        }
      ]
    },
    {
      "cell_type": "code",
      "metadata": {
        "colab": {
          "base_uri": "https://localhost:8080/",
          "height": 295
        },
        "id": "Tp0nqM8sAlY3",
        "outputId": "0c16be6c-8390-452f-a458-fbb7421afdfc"
      },
      "source": [
        "# Plot each principal component as an arrow, starting at mean\n",
        "plt.scatter(x[0], x[1], alpha = 0.75)\n",
        "plt.arrow(0, 0, first_pc[0], first_pc[1], color='red', width=0.05)\n",
        "plt.arrow(0, 0, second_pc[0], second_pc[1], color='black', width=0.05)\n",
        "\n",
        "# Keep axes on same scale\n",
        "plt.axis('equal')\n",
        "plt.title(\"Data with Basis Vectors from PCA\")\n",
        "plt.xlabel('Variable 1')\n",
        "plt.ylabel(\"Variable 2\")\n",
        "plt.show()"
      ],
      "execution_count": 9,
      "outputs": [
        {
          "output_type": "display_data",
          "data": {
            "image/png": "[encoded data removed]",
            "text/plain": [
              "<Figure size 432x288 with 1 Axes>"
            ]
          },
          "metadata": {
            "tags": [],
            "needs_background": "light"
          }
        }
      ]
    },
    {
      "cell_type": "code",
      "metadata": {
        "colab": {
          "base_uri": "https://localhost:8080/",
          "height": 235
        },
        "id": "Ef8Ul5AUBP9C",
        "outputId": "7b95ea4b-8b39-4f63-a8f8-27b5e9266fec"
      },
      "source": [
        "out = pca.transform(x)\n",
        "transformed_df = pd.DataFrame({'comp1': out[: ,0], 'comp2': out[:,1]})\n",
        "\n",
        "transformed_df.head(6)"
      ],
      "execution_count": 11,
      "outputs": [
        {
          "output_type": "execute_result",
          "data": {
            "text/html": [
              "<div>\n",
              "<style scoped>\n",
              "    .dataframe tbody tr th:only-of-type {\n",
              "        vertical-align: middle;\n",
              "    }\n",
              "\n",
              "    .dataframe tbody tr th {\n",
              "        vertical-align: top;\n",
              "    }\n",
              "\n",
              "    .dataframe thead th {\n",
              "        text-align: right;\n",
              "    }\n",
              "</style>\n",
              "<table border=\"1\" class=\"dataframe\">\n",
              "  <thead>\n",
              "    <tr style=\"text-align: right;\">\n",
              "      <th></th>\n",
              "      <th>comp1</th>\n",
              "      <th>comp2</th>\n",
              "    </tr>\n",
              "  </thead>\n",
              "  <tbody>\n",
              "    <tr>\n",
              "      <th>0</th>\n",
              "      <td>-1.83</td>\n",
              "      <td>0.21</td>\n",
              "    </tr>\n",
              "    <tr>\n",
              "      <th>1</th>\n",
              "      <td>0.25</td>\n",
              "      <td>-0.54</td>\n",
              "    </tr>\n",
              "    <tr>\n",
              "      <th>2</th>\n",
              "      <td>1.04</td>\n",
              "      <td>0.46</td>\n",
              "    </tr>\n",
              "    <tr>\n",
              "      <th>3</th>\n",
              "      <td>-0.46</td>\n",
              "      <td>-0.19</td>\n",
              "    </tr>\n",
              "    <tr>\n",
              "      <th>4</th>\n",
              "      <td>0.47</td>\n",
              "      <td>0.11</td>\n",
              "    </tr>\n",
              "    <tr>\n",
              "      <th>5</th>\n",
              "      <td>-1.17</td>\n",
              "      <td>-0.00</td>\n",
              "    </tr>\n",
              "  </tbody>\n",
              "</table>\n",
              "</div>"
            ],
            "text/plain": [
              "   comp1  comp2\n",
              "0  -1.83   0.21\n",
              "1   0.25  -0.54\n",
              "2   1.04   0.46\n",
              "3  -0.46  -0.19\n",
              "4   0.47   0.11\n",
              "5  -1.17  -0.00"
            ]
          },
          "metadata": {
            "tags": []
          },
          "execution_count": 11
        }
      ]
    },
    {
      "cell_type": "code",
      "metadata": {
        "colab": {
          "base_uri": "https://localhost:8080/"
        },
        "id": "QG-rloXBBX9K",
        "outputId": "d6dad8e4-4585-4df9-be0d-08fb4ef372b7"
      },
      "source": [
        "print(\"The correlation between var1 and var2 is: \", np.corrcoef(transformed_df[\"comp1\"], transformed_df['comp2'])[0,1])"
      ],
      "execution_count": 12,
      "outputs": [
        {
          "output_type": "stream",
          "text": [
            "The correlation between var1 and var2 is:  -4.810891664141183e-18\n"
          ],
          "name": "stdout"
        }
      ]
    },
    {
      "cell_type": "code",
      "metadata": {
        "colab": {
          "base_uri": "https://localhost:8080/",
          "height": 295
        },
        "id": "zzkG3lH8BbD0",
        "outputId": "e1ad5554-655a-4f2e-929f-54f814d44b8f"
      },
      "source": [
        "plt.scatter(transformed_df[\"comp1\"], transformed_df[\"comp2\"], alpha = 0.75)\n",
        "plt.title(\"Transformed dataset using Principal Components as the Basis\")\n",
        "plt.xlabel(\"Principal Component 1\")\n",
        "plt.ylabel(\"Principal Component 2\")\n",
        "plt.show()"
      ],
      "execution_count": 13,
      "outputs": [
        {
          "output_type": "display_data",
          "data": {
            "image/png": "[encoded data removed]",
            "text/plain": [
              "<Figure size 432x288 with 1 Axes>"
            ]
          },
          "metadata": {
            "tags": [],
            "needs_background": "light"
          }
        }
      ]
    },
    {
      "cell_type": "code",
      "metadata": {
        "colab": {
          "base_uri": "https://localhost:8080/"
        },
        "id": "fE9QxTOaBhAt",
        "outputId": "6ef0e7de-6509-48be-8844-8d884b11ce1a"
      },
      "source": [
        "print(\"The percentage of variance explained by each principal component:\")\n",
        "print(100*pca.explained_variance_ratio_)"
      ],
      "execution_count": 15,
      "outputs": [
        {
          "output_type": "stream",
          "text": [
            "The percentage of variance explained by each principal component:\n",
            "[94.95773923  5.04226077]\n"
          ],
          "name": "stdout"
        }
      ]
    },
    {
      "cell_type": "markdown",
      "metadata": {
        "id": "FBnp8KB2RKeQ"
      },
      "source": [
        "The first principal component explains almost 95% of the variation in the data. "
      ]
    },
    {
      "cell_type": "markdown",
      "metadata": {
        "id": "61xupf2U_1ht"
      },
      "source": [
        "# PCA Using the IRIS Data"
      ]
    },
    {
      "cell_type": "code",
      "metadata": {
        "colab": {
          "base_uri": "https://localhost:8080/",
          "height": 173
        },
        "id": "eEeV0H4W-eE3",
        "outputId": "e441c8b5-af7e-40d7-e7bd-b6e0e631165c"
      },
      "source": [
        "iris = pd.read_csv(\"http://archive.ics.uci.edu/ml/machine-learning-databases/iris/iris.data\", header = None, \n",
        "                   names = ['sepal_length', 'sepal_width', 'petal_length', 'petal_width', 'class'])\n",
        "\n",
        "iris.cov()"
      ],
      "execution_count": 16,
      "outputs": [
        {
          "output_type": "execute_result",
          "data": {
            "text/html": [
              "<div>\n",
              "<style scoped>\n",
              "    .dataframe tbody tr th:only-of-type {\n",
              "        vertical-align: middle;\n",
              "    }\n",
              "\n",
              "    .dataframe tbody tr th {\n",
              "        vertical-align: top;\n",
              "    }\n",
              "\n",
              "    .dataframe thead th {\n",
              "        text-align: right;\n",
              "    }\n",
              "</style>\n",
              "<table border=\"1\" class=\"dataframe\">\n",
              "  <thead>\n",
              "    <tr style=\"text-align: right;\">\n",
              "      <th></th>\n",
              "      <th>sepal_length</th>\n",
              "      <th>sepal_width</th>\n",
              "      <th>petal_length</th>\n",
              "      <th>petal_width</th>\n",
              "    </tr>\n",
              "  </thead>\n",
              "  <tbody>\n",
              "    <tr>\n",
              "      <th>sepal_length</th>\n",
              "      <td>0.69</td>\n",
              "      <td>-0.04</td>\n",
              "      <td>1.27</td>\n",
              "      <td>0.52</td>\n",
              "    </tr>\n",
              "    <tr>\n",
              "      <th>sepal_width</th>\n",
              "      <td>-0.04</td>\n",
              "      <td>0.19</td>\n",
              "      <td>-0.32</td>\n",
              "      <td>-0.12</td>\n",
              "    </tr>\n",
              "    <tr>\n",
              "      <th>petal_length</th>\n",
              "      <td>1.27</td>\n",
              "      <td>-0.32</td>\n",
              "      <td>3.11</td>\n",
              "      <td>1.30</td>\n",
              "    </tr>\n",
              "    <tr>\n",
              "      <th>petal_width</th>\n",
              "      <td>0.52</td>\n",
              "      <td>-0.12</td>\n",
              "      <td>1.30</td>\n",
              "      <td>0.58</td>\n",
              "    </tr>\n",
              "  </tbody>\n",
              "</table>\n",
              "</div>"
            ],
            "text/plain": [
              "              sepal_length  sepal_width  petal_length  petal_width\n",
              "sepal_length          0.69        -0.04          1.27         0.52\n",
              "sepal_width          -0.04         0.19         -0.32        -0.12\n",
              "petal_length          1.27        -0.32          3.11         1.30\n",
              "petal_width           0.52        -0.12          1.30         0.58"
            ]
          },
          "metadata": {
            "tags": []
          },
          "execution_count": 16
        }
      ]
    },
    {
      "cell_type": "markdown",
      "metadata": {
        "id": "7waMT9avUwYH"
      },
      "source": [
        "## Fitting a Model"
      ]
    },
    {
      "cell_type": "code",
      "metadata": {
        "collapsed": true,
        "id": "A-ttiez1-eE5"
      },
      "source": [
        "from sklearn.preprocessing import StandardScaler\n",
        "features = ['sepal_length', 'sepal_width', 'petal_length', 'petal_width']\n",
        "# Separating out the features\n",
        "x = iris.loc[:, features].values\n",
        "# Standardizing the features\n",
        "x = StandardScaler().fit_transform(x)"
      ],
      "execution_count": 17,
      "outputs": []
    },
    {
      "cell_type": "markdown",
      "metadata": {
        "id": "Bupw0zfI-eE8"
      },
      "source": [
        "To run PCA, use the `decomposition` package within `scikit-learn`. First, set `n_components = 4`. "
      ]
    },
    {
      "cell_type": "code",
      "metadata": {
        "collapsed": true,
        "id": "3DGQp09w-eE9"
      },
      "source": [
        "pca = PCA(n_components=4)\n",
        "\n",
        "principalComponents = pca.fit_transform(x)\n",
        "pca.x = pd.DataFrame(data = principalComponents, columns = ['princomp1', 'princomp2','princomp3', 'princomp4'])\n"
      ],
      "execution_count": 18,
      "outputs": []
    },
    {
      "cell_type": "code",
      "metadata": {
        "scrolled": true,
        "colab": {
          "base_uri": "https://localhost:8080/"
        },
        "id": "gvEKEfHs-eE9",
        "outputId": "577f329d-22ae-4c10-ba64-19988a3cfc0a"
      },
      "source": [
        "print(\"The amount of variance explained by each component:\", pca.explained_variance_)\n",
        "print(\" \")\n",
        "print(\"The percentage of variance explained by each component:\", pca.explained_variance_ratio_)"
      ],
      "execution_count": 19,
      "outputs": [
        {
          "output_type": "stream",
          "text": [
            "The amount of variance explained by each component: [2.93035378 0.92740362 0.14834223 0.02074601]\n",
            " \n",
            "The percentage of variance explained by each component: [0.72770452 0.23030523 0.03683832 0.00515193]\n"
          ],
          "name": "stdout"
        }
      ]
    },
    {
      "cell_type": "markdown",
      "metadata": {
        "id": "t_BJJDFx-eE-"
      },
      "source": [
        "PCA will also compute what are called ``singular values``, which are closely related to the eigenvalues from PCA. In fact, a closely related concept to PCA is called **Singular Value Decomposition (SVD)** which we will cover later. For now, we'll just note that the eigenvalue $\\lambda$ is related to the singular value $\\sigma$ by \n",
        "\n",
        "$$\n",
        "\\lambda = \\frac{\\sigma^2 }{n-1}\n",
        "$$\n",
        "\n",
        "where $n$ is the number of records in the dataset. "
      ]
    },
    {
      "cell_type": "code",
      "metadata": {
        "colab": {
          "base_uri": "https://localhost:8080/"
        },
        "id": "D0Y73gP8-eE-",
        "outputId": "a81bb6e0-2e7e-43ad-c11e-e9175149b244"
      },
      "source": [
        "print(pca.singular_values_)"
      ],
      "execution_count": 20,
      "outputs": [
        {
          "output_type": "stream",
          "text": [
            "[20.89551896 11.75513248  4.7013819   1.75816839]\n"
          ],
          "name": "stdout"
        }
      ]
    },
    {
      "cell_type": "markdown",
      "metadata": {
        "id": "czHBQwA7-eE_"
      },
      "source": [
        "We can analyze the covariance matrix for the transformed dataset, confirming that the variances are indeed the eigenvalues. Further, the off-diagonal entries are zero. "
      ]
    },
    {
      "cell_type": "code",
      "metadata": {
        "scrolled": true,
        "colab": {
          "base_uri": "https://localhost:8080/",
          "height": 173
        },
        "id": "ESPtHiNc-eE_",
        "outputId": "a97f50a9-8e4c-43a2-dfd9-188d2f4827d8"
      },
      "source": [
        "pca.x.cov()"
      ],
      "execution_count": 21,
      "outputs": [
        {
          "output_type": "execute_result",
          "data": {
            "text/html": [
              "<div>\n",
              "<style scoped>\n",
              "    .dataframe tbody tr th:only-of-type {\n",
              "        vertical-align: middle;\n",
              "    }\n",
              "\n",
              "    .dataframe tbody tr th {\n",
              "        vertical-align: top;\n",
              "    }\n",
              "\n",
              "    .dataframe thead th {\n",
              "        text-align: right;\n",
              "    }\n",
              "</style>\n",
              "<table border=\"1\" class=\"dataframe\">\n",
              "  <thead>\n",
              "    <tr style=\"text-align: right;\">\n",
              "      <th></th>\n",
              "      <th>princomp1</th>\n",
              "      <th>princomp2</th>\n",
              "      <th>princomp3</th>\n",
              "      <th>princomp4</th>\n",
              "    </tr>\n",
              "  </thead>\n",
              "  <tbody>\n",
              "    <tr>\n",
              "      <th>princomp1</th>\n",
              "      <td>2.93</td>\n",
              "      <td>0.00</td>\n",
              "      <td>-0.00</td>\n",
              "      <td>-0.00</td>\n",
              "    </tr>\n",
              "    <tr>\n",
              "      <th>princomp2</th>\n",
              "      <td>0.00</td>\n",
              "      <td>0.93</td>\n",
              "      <td>-0.00</td>\n",
              "      <td>-0.00</td>\n",
              "    </tr>\n",
              "    <tr>\n",
              "      <th>princomp3</th>\n",
              "      <td>-0.00</td>\n",
              "      <td>-0.00</td>\n",
              "      <td>0.15</td>\n",
              "      <td>0.00</td>\n",
              "    </tr>\n",
              "    <tr>\n",
              "      <th>princomp4</th>\n",
              "      <td>-0.00</td>\n",
              "      <td>-0.00</td>\n",
              "      <td>0.00</td>\n",
              "      <td>0.02</td>\n",
              "    </tr>\n",
              "  </tbody>\n",
              "</table>\n",
              "</div>"
            ],
            "text/plain": [
              "           princomp1  princomp2  princomp3  princomp4\n",
              "princomp1       2.93       0.00      -0.00      -0.00\n",
              "princomp2       0.00       0.93      -0.00      -0.00\n",
              "princomp3      -0.00      -0.00       0.15       0.00\n",
              "princomp4      -0.00      -0.00       0.00       0.02"
            ]
          },
          "metadata": {
            "tags": []
          },
          "execution_count": 21
        }
      ]
    },
    {
      "cell_type": "markdown",
      "metadata": {
        "id": "Se3ig_9upTFS"
      },
      "source": [
        "## Analyzing the variation"
      ]
    },
    {
      "cell_type": "markdown",
      "metadata": {
        "id": "CfbsJ4nxotgc"
      },
      "source": [
        "We can look at the percentage of variation captured by each principal component, but it is more useful to look at the cumulative percentage for the first $k$ principal components:"
      ]
    },
    {
      "cell_type": "code",
      "metadata": {
        "colab": {
          "base_uri": "https://localhost:8080/"
        },
        "id": "i9cYgpBuos_u",
        "outputId": "eb72f964-9e50-4644-905d-b762f6d02a44"
      },
      "source": [
        "print(\"The percentage of variance explained by each principal component:\")\n",
        "print(100*pca.explained_variance_ratio_)"
      ],
      "execution_count": 22,
      "outputs": [
        {
          "output_type": "stream",
          "text": [
            "The percentage of variance explained by each principal component:\n",
            "[72.77045209 23.03052327  3.68383196  0.51519268]\n"
          ],
          "name": "stdout"
        }
      ]
    },
    {
      "cell_type": "code",
      "metadata": {
        "colab": {
          "base_uri": "https://localhost:8080/"
        },
        "id": "chjXY9ds-eFA",
        "outputId": "b773664c-31ae-488c-8056-40b38e0de034"
      },
      "source": [
        "cumulative_variance = 100*pca.explained_variance_ratio_.cumsum()\n",
        "\n",
        "print(cumulative_variance)"
      ],
      "execution_count": 23,
      "outputs": [
        {
          "output_type": "stream",
          "text": [
            "[ 72.77045209  95.80097536  99.48480732 100.        ]\n"
          ],
          "name": "stdout"
        }
      ]
    },
    {
      "cell_type": "markdown",
      "metadata": {
        "id": "OxDGx_VOpI05"
      },
      "source": [
        "The first two components capture a little bit more than 95% of the variation in the data. "
      ]
    },
    {
      "cell_type": "code",
      "metadata": {
        "scrolled": false,
        "id": "t0OO020M-eFB",
        "outputId": "4b64d8bc-8327-454e-f4bc-5a0301a5c1da"
      },
      "source": [
        "%matplotlib inline\n",
        "import matplotlib.pyplot as plt\n",
        "\n",
        "plt.plot(cumulative_variance)\n",
        "plt.title(\"PCA: Cumulative Scree Plot\")\n",
        "plt.ylabel(\"% of Variance Explained\")\n",
        "plt.xlabel(\"Principal Component #\")\n",
        "plt.axis([-0.05, 3.05, 0, 105]);\n",
        "plt.xticks([0,1,2,3])\n",
        "plt.yticks([0, 10, 20, 30, 40, 50, 60, 70, 80, 90,100])\n",
        "plt.grid(False)\n",
        "plt.show()"
      ],
      "execution_count": null,
      "outputs": [
        {
          "output_type": "display_data",
          "data": {
            "image/png": "[encoded data removed]",
            "text/plain": [
              "<matplotlib.figure.Figure at 0x7fb838057320>"
            ]
          },
          "metadata": {
            "tags": []
          }
        }
      ]
    },
    {
      "cell_type": "markdown",
      "metadata": {
        "id": "xnvt6h7V-eFB"
      },
      "source": [
        "## Dimensionality Reduction using PCA\n",
        "\n",
        "PCA provides the transformed data as an output. In this case, the original columns are replaced with four new columns, labeled ``princompk``. Each new attribute is a linear combination of the original attributes. "
      ]
    },
    {
      "cell_type": "code",
      "metadata": {
        "scrolled": true,
        "colab": {
          "base_uri": "https://localhost:8080/",
          "height": 204
        },
        "id": "tMr-r_3O-eFB",
        "outputId": "5a28c606-ea8b-4de7-99fa-912218c1e346"
      },
      "source": [
        "iris.pca = pd.concat([pca.x, iris[['class']]], axis = 1)\n",
        "iris.pca.head()"
      ],
      "execution_count": 32,
      "outputs": [
        {
          "output_type": "execute_result",
          "data": {
            "text/html": [
              "<div>\n",
              "<style scoped>\n",
              "    .dataframe tbody tr th:only-of-type {\n",
              "        vertical-align: middle;\n",
              "    }\n",
              "\n",
              "    .dataframe tbody tr th {\n",
              "        vertical-align: top;\n",
              "    }\n",
              "\n",
              "    .dataframe thead th {\n",
              "        text-align: right;\n",
              "    }\n",
              "</style>\n",
              "<table border=\"1\" class=\"dataframe\">\n",
              "  <thead>\n",
              "    <tr style=\"text-align: right;\">\n",
              "      <th></th>\n",
              "      <th>princomp1</th>\n",
              "      <th>princomp2</th>\n",
              "      <th>princomp3</th>\n",
              "      <th>princomp4</th>\n",
              "      <th>class</th>\n",
              "    </tr>\n",
              "  </thead>\n",
              "  <tbody>\n",
              "    <tr>\n",
              "      <th>0</th>\n",
              "      <td>-2.26</td>\n",
              "      <td>0.51</td>\n",
              "      <td>-0.12</td>\n",
              "      <td>-0.02</td>\n",
              "      <td>Iris-setosa</td>\n",
              "    </tr>\n",
              "    <tr>\n",
              "      <th>1</th>\n",
              "      <td>-2.09</td>\n",
              "      <td>-0.66</td>\n",
              "      <td>-0.23</td>\n",
              "      <td>-0.10</td>\n",
              "      <td>Iris-setosa</td>\n",
              "    </tr>\n",
              "    <tr>\n",
              "      <th>2</th>\n",
              "      <td>-2.37</td>\n",
              "      <td>-0.32</td>\n",
              "      <td>0.05</td>\n",
              "      <td>-0.03</td>\n",
              "      <td>Iris-setosa</td>\n",
              "    </tr>\n",
              "    <tr>\n",
              "      <th>3</th>\n",
              "      <td>-2.30</td>\n",
              "      <td>-0.58</td>\n",
              "      <td>0.10</td>\n",
              "      <td>0.07</td>\n",
              "      <td>Iris-setosa</td>\n",
              "    </tr>\n",
              "    <tr>\n",
              "      <th>4</th>\n",
              "      <td>-2.39</td>\n",
              "      <td>0.67</td>\n",
              "      <td>0.02</td>\n",
              "      <td>0.04</td>\n",
              "      <td>Iris-setosa</td>\n",
              "    </tr>\n",
              "  </tbody>\n",
              "</table>\n",
              "</div>"
            ],
            "text/plain": [
              "   princomp1  princomp2  princomp3  princomp4        class\n",
              "0      -2.26       0.51      -0.12      -0.02  Iris-setosa\n",
              "1      -2.09      -0.66      -0.23      -0.10  Iris-setosa\n",
              "2      -2.37      -0.32       0.05      -0.03  Iris-setosa\n",
              "3      -2.30      -0.58       0.10       0.07  Iris-setosa\n",
              "4      -2.39       0.67       0.02       0.04  Iris-setosa"
            ]
          },
          "metadata": {
            "tags": []
          },
          "execution_count": 32
        }
      ]
    },
    {
      "cell_type": "code",
      "metadata": {
        "scrolled": true,
        "colab": {
          "base_uri": "https://localhost:8080/",
          "height": 383
        },
        "id": "6c3iY5_i-eFC",
        "outputId": "58783258-14d8-48cd-bcb3-9533069ea69a"
      },
      "source": [
        "sns.relplot(x=\"princomp1\", y=\"princomp2\", hue = 'class', data=iris.pca);"
      ],
      "execution_count": 33,
      "outputs": [
        {
          "output_type": "display_data",
          "data": {
            "image/png": "[encoded data removed]",
            "text/plain": [
              "<Figure size 463.25x360 with 1 Axes>"
            ]
          },
          "metadata": {
            "tags": [],
            "needs_background": "light"
          }
        }
      ]
    },
    {
      "cell_type": "code",
      "metadata": {
        "colab": {
          "base_uri": "https://localhost:8080/"
        },
        "id": "veGpQrNR-eFC",
        "outputId": "d7def580-be54-4286-fb28-756b4e84f41b"
      },
      "source": [
        "U = pca.components_.transpose()\n",
        "print(U)"
      ],
      "execution_count": 34,
      "outputs": [
        {
          "output_type": "stream",
          "text": [
            "[[ 0.52237162  0.37231836 -0.72101681 -0.26199559]\n",
            " [-0.26335492  0.92555649  0.24203288  0.12413481]\n",
            " [ 0.58125401  0.02109478  0.14089226  0.80115427]\n",
            " [ 0.56561105  0.06541577  0.6338014  -0.52354627]]\n"
          ],
          "name": "stdout"
        }
      ]
    },
    {
      "cell_type": "markdown",
      "metadata": {
        "id": "bRoh3LN7-eFC"
      },
      "source": [
        "The eigenvectors are the columns of the matrix $U$ above. For example,\n",
        "\n",
        "$$\n",
        "U_1 = \n",
        "\\begin{bmatrix}\n",
        "    0.5223\\\\\n",
        "    -0.2633\\\\\n",
        "    0.5812\\\\\n",
        "    0.5656\n",
        "  \\end{bmatrix}\n",
        "$$"
      ]
    },
    {
      "cell_type": "markdown",
      "metadata": {
        "id": "itf7EIGD-eFD"
      },
      "source": [
        "Further, as you can see below, $U$ is an *orthogonal* matrix. In other words, the norm of each eigenvector is 1, while the eigenvectors are orthogonal to each other. "
      ]
    },
    {
      "cell_type": "code",
      "metadata": {
        "colab": {
          "base_uri": "https://localhost:8080/"
        },
        "id": "7krNw3Zh-eFD",
        "outputId": "052dd230-9b81-4ff4-ca9e-c1ecfd3e4e76"
      },
      "source": [
        "print(np.matmul(U, U.transpose()))"
      ],
      "execution_count": 35,
      "outputs": [
        {
          "output_type": "stream",
          "text": [
            "[[ 1.00000000e+00  1.50649306e-18 -3.17915979e-16 -5.27696197e-16]\n",
            " [ 1.50649306e-18  1.00000000e+00 -7.31014497e-17  5.64144388e-17]\n",
            " [-3.17915979e-16 -7.31014497e-17  1.00000000e+00 -2.14734934e-16]\n",
            " [-5.27696197e-16  5.64144388e-17 -2.14734934e-16  1.00000000e+00]]\n"
          ],
          "name": "stdout"
        }
      ]
    },
    {
      "cell_type": "markdown",
      "metadata": {
        "id": "7RFNy4Hz-eFD"
      },
      "source": [
        "Suppose that we would like to keep only the first two dimensions: in other words, we would like to project the data points onto a two-dimensional subspace. This corresponds with the matrix:\n",
        "\n",
        "$$\n",
        "U_2 = \n",
        "\\begin{bmatrix}\n",
        "    0.5223 & 0.3723\\\\\n",
        "    -0.2633 & 0.9255\\\\\n",
        "    0.5812 & 0.0210\\\\\n",
        "    0.5656 & 0.0654\n",
        "  \\end{bmatrix}\n",
        "$$\n",
        "\n",
        "The new data is represented by \n",
        "\n",
        "$$\n",
        "A = U_2^T X\n",
        "$$\n",
        "\n",
        "For example, \n",
        "$$\n",
        "x_1 = \n",
        "\\begin{bmatrix}\n",
        "    -0.900681\\\\\t\n",
        "    1.032057\\\\\t\n",
        "    -1.341272\\\\\t\n",
        "    -1.312977\n",
        "\\end{bmatrix}\n",
        "\\rightarrow \n",
        "a_1=\n",
        "\\begin{bmatrix}\n",
        "-2.264542\\\\\t\n",
        "0.505704\n",
        "\\end{bmatrix}\n",
        "$$ "
      ]
    },
    {
      "cell_type": "markdown",
      "metadata": {
        "id": "mXgM-LYX-eFE"
      },
      "source": [
        "You can also think of the components of PCA as the effect of each of the original attributes on that particular dimension. \n",
        "\n",
        "For example, relative to the PC1, *petal length* has the highest positive impact, while sepal_width is the only attribute with a negative impact. \n",
        "\n",
        "For PC2, the effects of *petal length* and *petal width* are minimal; this component focuses more on the *sepal*-related attributes. In particular, *sepal width* is the dominant factor. "
      ]
    },
    {
      "cell_type": "code",
      "metadata": {
        "colab": {
          "base_uri": "https://localhost:8080/"
        },
        "id": "2dxWjz6dxhbm",
        "outputId": "ac0ead2f-4496-49e6-ffe0-452bd484fdfa"
      },
      "source": [
        "print('PC 1 effects = ' + str(dict(zip(iris.columns, pca.components_[0]))))\n",
        "print('PC 2 effects = ' + str(dict(zip(iris.columns, pca.components_[1]))))"
      ],
      "execution_count": 56,
      "outputs": [
        {
          "output_type": "stream",
          "text": [
            "PC 1 effects = {'sepal_length': 0.5223716204076599, 'sepal_width': -0.26335491531393995, 'petal_length': 0.5812540055976476, 'petal_width': 0.5656110498826488}\n",
            "PC 2 effects = {'sepal_length': 0.3723183633499692, 'sepal_width': 0.9255564941472946, 'petal_length': 0.0210947768412465, 'petal_width': 0.06541576907892788}\n"
          ],
          "name": "stdout"
        }
      ]
    },
    {
      "cell_type": "markdown",
      "metadata": {
        "id": "fnGzWQWt-eFE"
      },
      "source": [
        "You can create a scatterplot of each of the original features versus the principal components to see what the relation is:"
      ]
    },
    {
      "cell_type": "code",
      "metadata": {
        "colab": {
          "base_uri": "https://localhost:8080/",
          "height": 441
        },
        "id": "YPteqSR7-eFF",
        "outputId": "ed3a23eb-3000-4fdf-e59e-6746ac724ee4"
      },
      "source": [
        "fig, axs = plt.subplots(2,2, figsize = (10,6))\n",
        "\n",
        "axs[0,0].scatter(x = x[:, 0], y = pca.x['princomp1'], s = 15)\n",
        "axs[0,0].set_title('x-axis: sepal_length')\n",
        "axs[0,1].scatter(x = x[:, 1], y = pca.x['princomp1'], s = 15)\n",
        "axs[0,1].set_title('x-axis: sepal_width')\n",
        "axs[1,0].scatter(x = x[:, 2], y = pca.x['princomp1'], s = 15)\n",
        "axs[1,0].set_title('x-axis: petal_length')\n",
        "axs[1,1].scatter(x = x[:, 3], y = pca.x['princomp1'], s = 15)\n",
        "axs[1,1].set_title('x-axis: petal_width')\n",
        "fig.tight_layout()\n",
        "\n",
        "plt.show()"
      ],
      "execution_count": 54,
      "outputs": [
        {
          "output_type": "display_data",
          "data": {
            "image/png": "[encoded data removed]",
            "text/plain": [
              "<Figure size 720x432 with 4 Axes>"
            ]
          },
          "metadata": {
            "tags": [],
            "needs_background": "light"
          }
        }
      ]
    },
    {
      "cell_type": "code",
      "metadata": {
        "colab": {
          "base_uri": "https://localhost:8080/",
          "height": 441
        },
        "id": "ujB5qFZZ-eFL",
        "outputId": "ebbaee7b-154c-4ed3-8863-66f60908bc2e"
      },
      "source": [
        "fig, axs = plt.subplots(2,2, figsize = (10,6))\n",
        "axs[0,0].scatter(x = x[:, 0], y = pca.x['princomp2'], s=15)\n",
        "axs[0,0].set_title('x-axis: sepal_length')\n",
        "axs[0,1].scatter(x = x[:, 1], y = pca.x['princomp2'], s=15)\n",
        "axs[0,1].set_title('x-axis: sepal_width')\n",
        "axs[1,0].scatter(x = x[:, 2], y = pca.x['princomp2'], s=15)\n",
        "axs[1,0].set_title('x-axis: petal_length')\n",
        "axs[1,1].scatter(x = x[:, 3], y = pca.x['princomp2'], s=15)\n",
        "axs[1,1].set_title('x-axis: petal_width')\n",
        "fig.tight_layout()\n",
        "\n",
        "    \n",
        "plt.show()"
      ],
      "execution_count": 55,
      "outputs": [
        {
          "output_type": "display_data",
          "data": {
            "image/png": "[encoded data removed]",
            "text/plain": [
              "<Figure size 720x432 with 4 Axes>"
            ]
          },
          "metadata": {
            "tags": [],
            "needs_background": "light"
          }
        }
      ]
    },
    {
      "cell_type": "markdown",
      "metadata": {
        "id": "wIeq4O8B-eFL"
      },
      "source": [
        "## Reconstructing the original data\n",
        "\n",
        "You can use the `inverse_transform` method on the reduced dataset to recover an estimate for the original dataset. "
      ]
    },
    {
      "cell_type": "code",
      "metadata": {
        "collapsed": true,
        "id": "-GbWj392-eFM"
      },
      "source": [
        "from sklearn.decomposition import PCA\n",
        "\n",
        "pca_2d = PCA(n_components=2)\n",
        "\n",
        "x_proj = pca_2d.fit_transform(x)\n",
        "\n",
        "x_inv = pca_2d.inverse_transform(x_proj)"
      ],
      "execution_count": 57,
      "outputs": []
    },
    {
      "cell_type": "code",
      "metadata": {
        "colab": {
          "base_uri": "https://localhost:8080/"
        },
        "id": "h5C9UQtq-eFN",
        "outputId": "15437e09-19d5-404f-bf8a-6e94166ebdef"
      },
      "source": [
        "print(\"Original record (after scaling): \", x[0])\n",
        "print(\"2-d PCA representation: \", x_proj[0])\n",
        "print(\"Recovered record (inverse transformation): \", x_inv[0])"
      ],
      "execution_count": 58,
      "outputs": [
        {
          "output_type": "stream",
          "text": [
            "Original record (after scaling):  [-0.90068117  1.03205722 -1.3412724  -1.31297673]\n",
            "2-d PCA representation:  [-2.26454173  0.5057039 ]\n",
            "Recovered record (inverse transformation):  [-0.99464948  1.06443573 -1.30560624 -1.24776881]\n"
          ],
          "name": "stdout"
        }
      ]
    },
    {
      "cell_type": "markdown",
      "metadata": {
        "id": "ejzNnHzH_Jpa"
      },
      "source": [
        "# Limitations\n",
        "\n",
        "PCA is a very useful tool for the data scientist.  Projecting high dimensional data to 2 or 3 dimensions helps us better visualize the relationships inherent in the data. Through dimensionality reduction, we can squeeze lots of incremental information into a relatively small number of attributes. \n",
        "\n",
        "There are, however, a number of important limitations: \n",
        "* Since PCA is built off of the covariance matrix, PCA only works where a covariance can be computed, i.e., with continuous data. \n",
        "* PCA does not natively handle missing values, and it can be impacted by outliers and noise (though standardization can help). \n",
        "* PCA will only capture linear relationships; if the data fits to a more complex nonlinear subspace, PCA may not pick up the relationships. \n",
        "* Finally, because each principal component is a linear combination of the input attributes, you will still need to collect all of the data from all of those attributes to compute the coordinates for each record. Hence you are not truly saving time and effort on the data collection process. \n",
        "\n",
        "Despite these challenges PCA remains an interesting and useful technique. \n"
      ]
    }
  ]
}