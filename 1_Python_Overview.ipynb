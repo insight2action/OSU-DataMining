{
  "nbformat": 4,
  "nbformat_minor": 0,
  "metadata": {
    "kernelspec": {
      "display_name": "Python 3",
      "language": "python",
      "name": "python3"
    },
    "language_info": {
      "codemirror_mode": {
        "name": "ipython",
        "version": 3
      },
      "file_extension": ".py",
      "mimetype": "text/x-python",
      "name": "python",
      "nbconvert_exporter": "python",
      "pygments_lexer": "ipython3",
      "version": "3.6.0"
    },
    "latex_envs": {
      "LaTeX_envs_menu_present": true,
      "autoclose": false,
      "autocomplete": true,
      "bibliofile": "biblio.bib",
      "cite_by": "apalike",
      "current_citInitial": 1,
      "eqLabelWithNumbers": true,
      "eqNumInitial": 1,
      "hotkeys": {
        "equation": "Ctrl-E",
        "itemize": "Ctrl-I"
      },
      "labels_anchors": false,
      "latex_user_defs": false,
      "report_style_numbering": false,
      "user_envs_cfg": false
    },
    "colab": {
      "name": "1_Python_Overview.ipynb",
      "provenance": [],
      "collapsed_sections": [
        "MInEvPyR4GGx",
        "r9HxVyje4GHl",
        "mBgjyJA-4GIH",
        "MH65zVDk4GIX",
        "VKIEyK2X4GI9",
        "nc09kuTG4GJX",
        "8piajEdm4GK_",
        "ME3EAvBp4GLh",
        "8lGBorsw4GMD",
        "gKmOCKQZ4GMu"
      ],
      "toc_visible": true,
      "include_colab_link": true
    }
  },
  "cells": [
    {
      "cell_type": "markdown",
      "metadata": {
        "id": "view-in-github",
        "colab_type": "text"
      },
      "source": [
        "<a href=\"https://colab.research.google.com/github/insight2action/OSU-DataMining/blob/main/1_Python_Overview.ipynb\" target=\"_parent\"><img src=\"https://colab.research.google.com/assets/colab-badge.svg\" alt=\"Open In Colab\"/></a>"
      ]
    },
    {
      "cell_type": "markdown",
      "metadata": {
        "id": "CoNgQ5YV4GFk"
      },
      "source": [
        "### CSE 5243:  Spring 2020\n",
        "# Overview of Python and Jupyter Notebooks\n",
        "\n",
        "updated by J. Van Hulse, January 2020\n",
        "\n",
        "Python has become the standard language in data science and machine learning due to its ease of use and large number of third-party libraries that augment the standard packages. Furthermore, Jupyter notebooks have become the default Python environments for doing data analysis or modeling. \n",
        "\n",
        "Python is a general purpose programming language, so this notebook provides an overview of Python as it relates to data mining and analysis effort. In addition, you will be exposure to the Jupyter notebook environment. \n",
        "\n",
        "Note that I will work in Python version 3. You should do the same. \n",
        "\n",
        "***"
      ]
    },
    {
      "cell_type": "markdown",
      "metadata": {
        "id": "KknvuCN34GFn"
      },
      "source": [
        "## Basic Data Structures in Python"
      ]
    },
    {
      "cell_type": "markdown",
      "metadata": {
        "id": "9B3oLTmB4GFo"
      },
      "source": [
        "Besides the usual data types like String, Int, and Boolean, there are three additional data structures that are commonly uesd: `list`, `dictionary`, and `tuple`"
      ]
    },
    {
      "cell_type": "code",
      "metadata": {
        "id": "mUpOXDnS4GFp",
        "outputId": "33bcdb70-d0e2-4ac3-d047-7b63ebfb71f2"
      },
      "source": [
        "my_list = [1, 2, 3, 4, 5]\n",
        "print(my_list)"
      ],
      "execution_count": null,
      "outputs": [
        {
          "output_type": "stream",
          "text": [
            "[1, 2, 3, 4, 5]\n"
          ],
          "name": "stdout"
        }
      ]
    },
    {
      "cell_type": "markdown",
      "metadata": {
        "id": "mAS64Lsa4GF4"
      },
      "source": [
        "Python lists are mutable (i.e., the values can change) and they can contain different data types"
      ]
    },
    {
      "cell_type": "code",
      "metadata": {
        "id": "6XSv910G4GF7",
        "outputId": "c4794795-5563-4bbb-e725-b724c662bf4f"
      },
      "source": [
        "my_second_list = [1, \"Fred\", True]\n",
        "print(my_second_list)"
      ],
      "execution_count": null,
      "outputs": [
        {
          "output_type": "stream",
          "text": [
            "[1, 'Fred', True]\n"
          ],
          "name": "stdout"
        }
      ]
    },
    {
      "cell_type": "markdown",
      "metadata": {
        "id": "4Q0CfIaY4GGE"
      },
      "source": [
        "Individual elements of a list can be accessed using the index position of the list:"
      ]
    },
    {
      "cell_type": "code",
      "metadata": {
        "id": "Lt7QWcq34GGF",
        "outputId": "06001a51-e7fa-4faf-868e-33973e3a5604"
      },
      "source": [
        "print(my_second_list[1])"
      ],
      "execution_count": null,
      "outputs": [
        {
          "output_type": "stream",
          "text": [
            "Fred\n"
          ],
          "name": "stdout"
        }
      ]
    },
    {
      "cell_type": "markdown",
      "metadata": {
        "id": "EgVtIrOA4GGO"
      },
      "source": [
        "**Tuples** are similar to lists, but they are immutable. Use tuples to hold constants that you do not want to change."
      ]
    },
    {
      "cell_type": "code",
      "metadata": {
        "id": "GHNycjfb4GGP",
        "outputId": "ff53bc06-d374-4661-fea9-7c6f749ee326"
      },
      "source": [
        "my_tuple = (2, 5, 10)\n",
        "my_tuple[0] = 12 #I can't assign 2 to the first element of the tuple. "
      ],
      "execution_count": null,
      "outputs": [
        {
          "output_type": "error",
          "ename": "TypeError",
          "evalue": "'tuple' object does not support item assignment",
          "traceback": [
            "\u001b[0;31m---------------------------------------------------------------------------\u001b[0m",
            "\u001b[0;31mTypeError\u001b[0m                                 Traceback (most recent call last)",
            "\u001b[0;32m<ipython-input-4-eb33ee8aa804>\u001b[0m in \u001b[0;36m<module>\u001b[0;34m()\u001b[0m\n\u001b[1;32m      1\u001b[0m \u001b[0mmy_tuple\u001b[0m \u001b[0;34m=\u001b[0m \u001b[0;34m(\u001b[0m\u001b[0;36m2\u001b[0m\u001b[0;34m,\u001b[0m \u001b[0;36m5\u001b[0m\u001b[0;34m,\u001b[0m \u001b[0;36m10\u001b[0m\u001b[0;34m)\u001b[0m\u001b[0;34m\u001b[0m\u001b[0m\n\u001b[0;32m----> 2\u001b[0;31m \u001b[0mmy_tuple\u001b[0m\u001b[0;34m[\u001b[0m\u001b[0;36m0\u001b[0m\u001b[0;34m]\u001b[0m \u001b[0;34m=\u001b[0m \u001b[0;36m12\u001b[0m \u001b[0;31m#I can't assign 2 to the first element of the tuple.\u001b[0m\u001b[0;34m\u001b[0m\u001b[0m\n\u001b[0m",
            "\u001b[0;31mTypeError\u001b[0m: 'tuple' object does not support item assignment"
          ]
        }
      ]
    },
    {
      "cell_type": "markdown",
      "metadata": {
        "id": "nIEog0lx4GGX"
      },
      "source": [
        "**Dictionaries** are used to hold data which has a **key-value pair** relationship. "
      ]
    },
    {
      "cell_type": "code",
      "metadata": {
        "id": "_K7EQRJV4GGZ",
        "outputId": "8447ede5-3b68-4cb9-8c5b-8718f98ea678"
      },
      "source": [
        "import datetime\n",
        "my_dictionary = {'name':'George Washington', 'Year of Birth': 1732}\n",
        "print(my_dictionary)"
      ],
      "execution_count": null,
      "outputs": [
        {
          "output_type": "stream",
          "text": [
            "{'name': 'George Washington', 'Year of Birth': 1732}\n"
          ],
          "name": "stdout"
        }
      ]
    },
    {
      "cell_type": "markdown",
      "metadata": {
        "id": "6Oh8fQRt4GGh"
      },
      "source": [
        "You can access a particular value in the dictionary by specifying the key as follows:"
      ]
    },
    {
      "cell_type": "code",
      "metadata": {
        "id": "28j35PI24GGi",
        "outputId": "1790a083-52db-4691-bf0f-f3bc8e78b016"
      },
      "source": [
        "print(my_dictionary['Year of Birth'])"
      ],
      "execution_count": null,
      "outputs": [
        {
          "output_type": "stream",
          "text": [
            "1732\n"
          ],
          "name": "stdout"
        }
      ]
    },
    {
      "cell_type": "markdown",
      "metadata": {
        "id": "8XCi1JWS4GGq"
      },
      "source": [
        "You can also update a value or even add new key-value pairs:"
      ]
    },
    {
      "cell_type": "code",
      "metadata": {
        "id": "VtrM_LzE4GGr",
        "outputId": "66c508cf-8d60-46d7-d6f3-33cd46f208c2"
      },
      "source": [
        "my_dictionary['Year of Death'] =  1799\n",
        "print(my_dictionary)"
      ],
      "execution_count": null,
      "outputs": [
        {
          "output_type": "stream",
          "text": [
            "{'name': 'George Washington', 'Year of Birth': 1732, 'Year of Death': 1799}\n"
          ],
          "name": "stdout"
        }
      ]
    },
    {
      "cell_type": "markdown",
      "metadata": {
        "id": "MInEvPyR4GGx"
      },
      "source": [
        "## Conditional Statements"
      ]
    },
    {
      "cell_type": "markdown",
      "metadata": {
        "id": "DoiRh5MX4GGz"
      },
      "source": [
        "Python has the usual constructs to control program flow, such as the `if` statement:"
      ]
    },
    {
      "cell_type": "code",
      "metadata": {
        "id": "pVJFGndB4GGz",
        "outputId": "3454ff64-695d-49ea-e6fa-5bdbb5b23994"
      },
      "source": [
        "a = 15\n",
        "\n",
        "if a < 10:\n",
        "    print(0)\n",
        "elif a == 10:\n",
        "    print(1)\n",
        "else:\n",
        "    print(2)"
      ],
      "execution_count": null,
      "outputs": [
        {
          "output_type": "stream",
          "text": [
            "2\n"
          ],
          "name": "stdout"
        }
      ]
    },
    {
      "cell_type": "markdown",
      "metadata": {
        "id": "ihKPzjmM4GG7"
      },
      "source": [
        "Here is an example of a `for` loop. When creating a for loop, it is useful to define an **iterable** that the loop can iterate over. In this example, the iterable that I created uses the *range* function. Iterables can be lists, dictionaries, or strings, among many other data types. "
      ]
    },
    {
      "cell_type": "code",
      "metadata": {
        "id": "tI6_rsab4GG8",
        "outputId": "9e5fdbc2-f491-4bdb-d8ea-8e19430cceb3"
      },
      "source": [
        "for i in range(5):\n",
        "    print(i)"
      ],
      "execution_count": null,
      "outputs": [
        {
          "output_type": "stream",
          "text": [
            "0\n",
            "1\n",
            "2\n",
            "3\n",
            "4\n"
          ],
          "name": "stdout"
        }
      ]
    },
    {
      "cell_type": "markdown",
      "metadata": {
        "id": "nj5KRT4-4GHQ"
      },
      "source": [
        "Here's a fun example combining nested if statements an. We would like to find positive integers $p, q, \\mbox{ and } r$ such that the equation\n",
        "\n",
        "$$\n",
        "1 = \\frac{1}{42} + \\frac{1}{p} + \\frac{1}{q} + \\frac{1}{r}\n",
        "$$\n",
        "\n",
        "is true. "
      ]
    },
    {
      "cell_type": "code",
      "metadata": {
        "scrolled": true,
        "id": "bVIlasnf4GHR",
        "outputId": "2c55c55c-bfba-4a54-b350-7a53fb9afe71"
      },
      "source": [
        "for p in range(1, 100):\n",
        "    for q in range(1, 100):\n",
        "        for r in range(1, 100):\n",
        "            if 1/42 + 1/p + 1/q + 1/r == 1:\n",
        "                print(p, q, r)"
      ],
      "execution_count": null,
      "outputs": [
        {
          "output_type": "stream",
          "text": [
            "2 3 7\n",
            "2 7 3\n",
            "3 2 7\n",
            "3 7 2\n",
            "7 2 3\n",
            "7 3 2\n"
          ],
          "name": "stdout"
        }
      ]
    },
    {
      "cell_type": "markdown",
      "metadata": {
        "id": "V8q9t4b74GHb"
      },
      "source": [
        "The Python packages `pandas`, `numpy` and `matplotlib` are very useful data science utilities. Many programs will start by importing these packages. "
      ]
    },
    {
      "cell_type": "code",
      "metadata": {
        "collapsed": true,
        "id": "HhFOWEZW4GHc"
      },
      "source": [
        "import pandas as pd\n",
        "import numpy as np\n",
        "import matplotlib.pyplot as plt\n",
        "%matplotlib inline"
      ],
      "execution_count": null,
      "outputs": []
    },
    {
      "cell_type": "markdown",
      "metadata": {
        "id": "r9HxVyje4GHl"
      },
      "source": [
        "## A little bit on NumPy"
      ]
    },
    {
      "cell_type": "markdown",
      "metadata": {
        "id": "CBUhLX4v4GHn"
      },
      "source": [
        "NumPy is a Python package that provides a set of capabilities to store and operate on dense data. It is kind of like a Python list, but NumPy arrays provide much more efficient storage and data operations as the size of the data grows. "
      ]
    },
    {
      "cell_type": "code",
      "metadata": {
        "collapsed": true,
        "id": "2dCKkOjS4GHn"
      },
      "source": [
        "#this is a code cell. Commands entered into a code cell will be executed by the interpreter. \n",
        "x = np.random.normal(size=500)   # generate a numpy array of normally distributed random values"
      ],
      "execution_count": null,
      "outputs": []
    },
    {
      "cell_type": "markdown",
      "metadata": {
        "id": "ezvHUtUl4GHt"
      },
      "source": [
        "In a `numpy` array, you can access individual entries or a range of entries"
      ]
    },
    {
      "cell_type": "code",
      "metadata": {
        "id": "LDGoq0Zk4GHu",
        "outputId": "ec71df5c-b623-4f8c-c215-cad09bb5ab30"
      },
      "source": [
        "x[0:5]"
      ],
      "execution_count": null,
      "outputs": [
        {
          "output_type": "execute_result",
          "data": {
            "text/plain": [
              "array([-0.09812731, -0.2421836 , -2.62287709, -2.0814249 , -0.25487364])"
            ]
          },
          "metadata": {
            "tags": []
          },
          "execution_count": 13
        }
      ]
    },
    {
      "cell_type": "code",
      "metadata": {
        "scrolled": false,
        "id": "-_KS90-L4GHz",
        "outputId": "2e4b6418-0e7c-4236-b257-75d8991338e9"
      },
      "source": [
        "plt.hist(x)"
      ],
      "execution_count": null,
      "outputs": [
        {
          "output_type": "execute_result",
          "data": {
            "text/plain": [
              "(array([   4.,   20.,   54.,   92.,  119.,  104.,   75.,   23.,    7.,    2.]),\n",
              " array([-2.89738303, -2.29064641, -1.6839098 , -1.07717318, -0.47043657,\n",
              "         0.13630004,  0.74303666,  1.34977327,  1.95650989,  2.5632465 ,\n",
              "         3.16998311]),\n",
              " <a list of 10 Patch objects>)"
            ]
          },
          "metadata": {
            "tags": []
          },
          "execution_count": 14
        },
        {
          "output_type": "display_data",
          "data": {
            "image/png": "[encoded data removed]",
            "text/plain": [
              "<matplotlib.figure.Figure at 0x112869b38>"
            ]
          },
          "metadata": {
            "tags": []
          }
        }
      ]
    },
    {
      "cell_type": "markdown",
      "metadata": {
        "id": "tKFwz4OV4GH6"
      },
      "source": [
        "You can also creat random matrices of different sizes:"
      ]
    },
    {
      "cell_type": "code",
      "metadata": {
        "id": "L3hBa2rE4GH8",
        "outputId": "0ca0ad78-32c8-443d-ff0c-ddb5a9e7d9e6"
      },
      "source": [
        "x2 = np.random.randint(10, size = (4,6))\n",
        "print(x2)\n",
        "print(\"Number of Dimenstions: \", x2.ndim)\n",
        "print(\"Shape: \", x2.shape)"
      ],
      "execution_count": null,
      "outputs": [
        {
          "output_type": "stream",
          "text": [
            "[[9 9 4 8 8 9]\n",
            " [2 2 9 2 4 6]\n",
            " [9 3 5 2 4 6]\n",
            " [7 9 7 6 5 2]]\n",
            "Number of Dimenstions:  2\n",
            "Shape:  (4, 6)\n"
          ],
          "name": "stdout"
        }
      ]
    },
    {
      "cell_type": "markdown",
      "metadata": {
        "id": "Wjd2qAVy4GIA"
      },
      "source": [
        "You can access parts of the matrix using the slice notation (:)"
      ]
    },
    {
      "cell_type": "code",
      "metadata": {
        "id": "shwCaKyU4GIB",
        "outputId": "caee8b8c-db16-45b1-a7e4-aa2a5ecbb87e"
      },
      "source": [
        "print(\"The first two rows of x2: \")\n",
        "print(x2[:2])\n",
        "print(\"The first three columns of x2:\")\n",
        "print(x2[:, :3])"
      ],
      "execution_count": null,
      "outputs": [
        {
          "output_type": "stream",
          "text": [
            "The first two rows of x2: \n",
            "[[9 9 4 8 8 9]\n",
            " [2 2 9 2 4 6]]\n",
            "The first three columns of x2:\n",
            "[[9 9 4]\n",
            " [2 2 9]\n",
            " [9 3 5]\n",
            " [7 9 7]]\n"
          ],
          "name": "stdout"
        }
      ]
    },
    {
      "cell_type": "markdown",
      "metadata": {
        "id": "mBgjyJA-4GIH"
      },
      "source": [
        "### Vectorizing versus Looping"
      ]
    },
    {
      "cell_type": "markdown",
      "metadata": {
        "id": "MLyZyGN24GIJ"
      },
      "source": [
        "Looping in Python is extremely slow. The preferred approach is to used **vectorized operations**, which apply the function to the entire array. In the following code, we use the Python *magic* command %timeit, which measures the time to execute a single statement by using a repeated execution. \n",
        "\n",
        "It runs the code for *n* number of loops *r* times, and returns the best average of the *r* runs. "
      ]
    },
    {
      "cell_type": "code",
      "metadata": {
        "id": "mh_7EHBu4GIK",
        "outputId": "f2222bdc-6bbf-47cb-decf-1688e0af1a95"
      },
      "source": [
        "#addition of two arrays using loops\n",
        "\n",
        "a = np.random.rand(1000000)\n",
        "b = np.random.rand(1000000)\n",
        "c = np.zeros(1000000)\n",
        "\n",
        "def compute_sum():\n",
        "    for i in range(1000000):\n",
        "        c[i] = a[i] + b[i]\n",
        "    \n",
        "%timeit -n 3 -r 5 compute_sum()\n",
        "\n",
        "#vectorized addition of the same two arrays\n",
        "def compute_sum2():\n",
        "    c = a + b\n",
        "\n",
        "%timeit -n 3 -r 5 compute_sum2()"
      ],
      "execution_count": null,
      "outputs": [
        {
          "output_type": "stream",
          "text": [
            "3 loops, best of 5: 641 ms per loop\n",
            "3 loops, best of 5: 3.76 ms per loop\n"
          ],
          "name": "stdout"
        }
      ]
    },
    {
      "cell_type": "code",
      "metadata": {
        "collapsed": true,
        "id": "P3n48TgB4GIP"
      },
      "source": [
        "#Use this command if you want to get additional information on the timeit function\n",
        "%timeit?"
      ],
      "execution_count": null,
      "outputs": []
    },
    {
      "cell_type": "markdown",
      "metadata": {
        "id": "MH65zVDk4GIX"
      },
      "source": [
        "## The Pandas Package\n",
        "\n",
        "### Series"
      ]
    },
    {
      "cell_type": "markdown",
      "metadata": {
        "id": "a2eF9zgb4GIa"
      },
      "source": [
        "The Pandas package provides three fundamental data structures: `Series`, `DataFrame`, `Index`. The Series and DataFrame data structures can be thought of as enhanced versions of the NumPy array. "
      ]
    },
    {
      "cell_type": "code",
      "metadata": {
        "id": "YG7U35g84GIb"
      },
      "source": [
        "countries = pd.Series([\"China\",\"India\",\"USA\",\"Indonesia\",\"Pakistan\",\"Brazil\",\"Nigeria\",\"Bangladesh\",\"Russia\"])\n",
        "\n",
        "pop2019 = pd.Series([1433783686, 1366417754, 329064917, 270625568, 216565318, 211049527, 200963599, 163046161, 145872256], index = countries)\n",
        "pop2018 = pd.Series([1427647786, 1352642280, 327096265, 267670543, 212228286, 209469323, 195874683, 161376708, 145734038 ], index = countries)\n"
      ],
      "execution_count": null,
      "outputs": []
    },
    {
      "cell_type": "code",
      "metadata": {
        "id": "S6XUOOQI4GIh"
      },
      "source": [
        "print(countries)"
      ],
      "execution_count": null,
      "outputs": []
    },
    {
      "cell_type": "code",
      "metadata": {
        "id": "nxcq5cy_4GIp"
      },
      "source": [
        "print(pop2019)"
      ],
      "execution_count": null,
      "outputs": []
    },
    {
      "cell_type": "markdown",
      "metadata": {
        "id": "9iyhn_5Q4GIv"
      },
      "source": [
        "A `Series` is a one-dimensional indexed array. The difference between a `Series` and a `NumPy` array is that a `NumPy` array has an implicitly defined integer index, while a `Series` has an explicity defined index. \n",
        "\n",
        "You can access any element of the Series by referring to the key:"
      ]
    },
    {
      "cell_type": "code",
      "metadata": {
        "id": "Z9PdTqHU4GIw",
        "outputId": "7dba0a14-8b56-4ef4-e24e-cc91e37021f8"
      },
      "source": [
        "print(\"The population of the United States in 2019 is: \", pop2019['USA'])"
      ],
      "execution_count": null,
      "outputs": [
        {
          "output_type": "stream",
          "text": [
            "The population of the United States in 2019 is:  329064917\n"
          ],
          "name": "stdout"
        }
      ]
    },
    {
      "cell_type": "markdown",
      "metadata": {
        "id": "flL7EHjL4GI2"
      },
      "source": [
        "If you want to access only the values of the `Series`, you can access the `values` attribute of the `Series`:"
      ]
    },
    {
      "cell_type": "code",
      "metadata": {
        "id": "KXiBZcg54GI3",
        "outputId": "5a9f051e-fe30-4f34-9edf-8a7f0af88fa3"
      },
      "source": [
        "pop2019.values"
      ],
      "execution_count": null,
      "outputs": [
        {
          "output_type": "execute_result",
          "data": {
            "text/plain": [
              "array([1433783686, 1366417754,  329064917,  270625568,  216565318,\n",
              "        211049527,  200963599,  163046161,  145872256])"
            ]
          },
          "metadata": {
            "tags": []
          },
          "execution_count": 23
        }
      ]
    },
    {
      "cell_type": "markdown",
      "metadata": {
        "id": "VKIEyK2X4GI9"
      },
      "source": [
        "### Data Frame\n",
        "\n",
        "`DataFrame` is a 2-dimensional labeled data structure with columns of potentially different types. You can think of it like a spreadsheet or SQL table. Another way to think of a `DataFrame` is as a two-dimensional array with flexible row indices and column names. \n",
        "\n",
        "There are many different ways to build a `DataFrame`.  One way is to use a dictionary to construct a single two-dimensional object: "
      ]
    },
    {
      "cell_type": "code",
      "metadata": {
        "collapsed": true,
        "id": "Bf4fh1j-4GI-"
      },
      "source": [
        "population = pd.DataFrame({'population2018': pop2018, 'population2019': pop2019})"
      ],
      "execution_count": null,
      "outputs": []
    },
    {
      "cell_type": "code",
      "metadata": {
        "id": "gSOsq_QQ4GJD",
        "outputId": "d9042db0-7545-4ad0-fd4a-2ab98545ec4a"
      },
      "source": [
        "population.head()"
      ],
      "execution_count": null,
      "outputs": [
        {
          "output_type": "execute_result",
          "data": {
            "text/html": [
              "<div>\n",
              "<style>\n",
              "    .dataframe thead tr:only-child th {\n",
              "        text-align: right;\n",
              "    }\n",
              "\n",
              "    .dataframe thead th {\n",
              "        text-align: left;\n",
              "    }\n",
              "\n",
              "    .dataframe tbody tr th {\n",
              "        vertical-align: top;\n",
              "    }\n",
              "</style>\n",
              "<table border=\"1\" class=\"dataframe\">\n",
              "  <thead>\n",
              "    <tr style=\"text-align: right;\">\n",
              "      <th></th>\n",
              "      <th>population2018</th>\n",
              "      <th>population2019</th>\n",
              "    </tr>\n",
              "  </thead>\n",
              "  <tbody>\n",
              "    <tr>\n",
              "      <th>China</th>\n",
              "      <td>1427647786</td>\n",
              "      <td>1433783686</td>\n",
              "    </tr>\n",
              "    <tr>\n",
              "      <th>India</th>\n",
              "      <td>1352642280</td>\n",
              "      <td>1366417754</td>\n",
              "    </tr>\n",
              "    <tr>\n",
              "      <th>USA</th>\n",
              "      <td>327096265</td>\n",
              "      <td>329064917</td>\n",
              "    </tr>\n",
              "    <tr>\n",
              "      <th>Indonesia</th>\n",
              "      <td>267670543</td>\n",
              "      <td>270625568</td>\n",
              "    </tr>\n",
              "    <tr>\n",
              "      <th>Pakistan</th>\n",
              "      <td>212228286</td>\n",
              "      <td>216565318</td>\n",
              "    </tr>\n",
              "  </tbody>\n",
              "</table>\n",
              "</div>"
            ],
            "text/plain": [
              "           population2018  population2019\n",
              "China          1427647786      1433783686\n",
              "India          1352642280      1366417754\n",
              "USA             327096265       329064917\n",
              "Indonesia       267670543       270625568\n",
              "Pakistan        212228286       216565318"
            ]
          },
          "metadata": {
            "tags": []
          },
          "execution_count": 25
        }
      ]
    },
    {
      "cell_type": "markdown",
      "metadata": {
        "id": "ktn7fCy94GJK"
      },
      "source": [
        "You can access the column names and index values by accessing the following attributes of the `DataFrame`:"
      ]
    },
    {
      "cell_type": "code",
      "metadata": {
        "id": "3rtAm7_E4GJM",
        "outputId": "fd7dc091-e2ef-4c41-839c-810b4121d860"
      },
      "source": [
        "population.columns"
      ],
      "execution_count": null,
      "outputs": [
        {
          "output_type": "execute_result",
          "data": {
            "text/plain": [
              "Index(['population2018', 'population2019'], dtype='object')"
            ]
          },
          "metadata": {
            "tags": []
          },
          "execution_count": 26
        }
      ]
    },
    {
      "cell_type": "code",
      "metadata": {
        "id": "bnwU9rHL4GJS",
        "outputId": "089c6868-7b18-4a29-fcfd-a77a3cc4e065"
      },
      "source": [
        "population.index"
      ],
      "execution_count": null,
      "outputs": [
        {
          "output_type": "execute_result",
          "data": {
            "text/plain": [
              "Index(['China', 'India', 'USA', 'Indonesia', 'Pakistan', 'Brazil', 'Nigeria',\n",
              "       'Bangladesh', 'Russia'],\n",
              "      dtype='object')"
            ]
          },
          "metadata": {
            "tags": []
          },
          "execution_count": 27
        }
      ]
    },
    {
      "cell_type": "markdown",
      "metadata": {
        "id": "nc09kuTG4GJX"
      },
      "source": [
        "#### Accessing entries in a Data Frame\n",
        "\n",
        "There are a few ways to access the rows of a `DataFrame`. First, the `iloc` indexer uses the implicit numeric style index. the `loc` indexer will use the explicit index. For example, both of the below commands will return the values for population values for India:"
      ]
    },
    {
      "cell_type": "code",
      "metadata": {
        "id": "82FUT5OS4GJY",
        "outputId": "7146c092-afdc-43b9-9b4f-f250cbc46fbe"
      },
      "source": [
        "population.iloc[1]"
      ],
      "execution_count": null,
      "outputs": [
        {
          "output_type": "execute_result",
          "data": {
            "text/plain": [
              "population2018    1352642280\n",
              "population2019    1366417754\n",
              "Name: India, dtype: int64"
            ]
          },
          "metadata": {
            "tags": []
          },
          "execution_count": 28
        }
      ]
    },
    {
      "cell_type": "code",
      "metadata": {
        "id": "hEUAICVB4GJg",
        "outputId": "773b4b4f-699a-4b03-d0d5-f512642ee072"
      },
      "source": [
        "population.loc['India']"
      ],
      "execution_count": null,
      "outputs": [
        {
          "output_type": "execute_result",
          "data": {
            "text/plain": [
              "population2018    1352642280\n",
              "population2019    1366417754\n",
              "Name: India, dtype: int64"
            ]
          },
          "metadata": {
            "tags": []
          },
          "execution_count": 29
        }
      ]
    },
    {
      "cell_type": "markdown",
      "metadata": {
        "id": "GJa7YOdM4GJs"
      },
      "source": [
        "You can also access a range of rows as follows:"
      ]
    },
    {
      "cell_type": "code",
      "metadata": {
        "id": "L1iNTgpM4GJt",
        "outputId": "8cdeb6c0-b68d-40b6-d3d3-4ff1b1e97f2b"
      },
      "source": [
        "population.iloc[1:3]"
      ],
      "execution_count": null,
      "outputs": [
        {
          "output_type": "execute_result",
          "data": {
            "text/html": [
              "<div>\n",
              "<style>\n",
              "    .dataframe thead tr:only-child th {\n",
              "        text-align: right;\n",
              "    }\n",
              "\n",
              "    .dataframe thead th {\n",
              "        text-align: left;\n",
              "    }\n",
              "\n",
              "    .dataframe tbody tr th {\n",
              "        vertical-align: top;\n",
              "    }\n",
              "</style>\n",
              "<table border=\"1\" class=\"dataframe\">\n",
              "  <thead>\n",
              "    <tr style=\"text-align: right;\">\n",
              "      <th></th>\n",
              "      <th>population2018</th>\n",
              "      <th>population2019</th>\n",
              "    </tr>\n",
              "  </thead>\n",
              "  <tbody>\n",
              "    <tr>\n",
              "      <th>India</th>\n",
              "      <td>1352642280</td>\n",
              "      <td>1366417754</td>\n",
              "    </tr>\n",
              "    <tr>\n",
              "      <th>USA</th>\n",
              "      <td>327096265</td>\n",
              "      <td>329064917</td>\n",
              "    </tr>\n",
              "  </tbody>\n",
              "</table>\n",
              "</div>"
            ],
            "text/plain": [
              "       population2018  population2019\n",
              "India      1352642280      1366417754\n",
              "USA         327096265       329064917"
            ]
          },
          "metadata": {
            "tags": []
          },
          "execution_count": 30
        }
      ]
    },
    {
      "cell_type": "code",
      "metadata": {
        "id": "EfieatX14GJz",
        "outputId": "a0e8f31c-4ce1-4f9b-aea4-482daf114e86"
      },
      "source": [
        "population.loc['India':'Brazil']"
      ],
      "execution_count": null,
      "outputs": [
        {
          "output_type": "execute_result",
          "data": {
            "text/html": [
              "<div>\n",
              "<style>\n",
              "    .dataframe thead tr:only-child th {\n",
              "        text-align: right;\n",
              "    }\n",
              "\n",
              "    .dataframe thead th {\n",
              "        text-align: left;\n",
              "    }\n",
              "\n",
              "    .dataframe tbody tr th {\n",
              "        vertical-align: top;\n",
              "    }\n",
              "</style>\n",
              "<table border=\"1\" class=\"dataframe\">\n",
              "  <thead>\n",
              "    <tr style=\"text-align: right;\">\n",
              "      <th></th>\n",
              "      <th>population2018</th>\n",
              "      <th>population2019</th>\n",
              "    </tr>\n",
              "  </thead>\n",
              "  <tbody>\n",
              "    <tr>\n",
              "      <th>India</th>\n",
              "      <td>1352642280</td>\n",
              "      <td>1366417754</td>\n",
              "    </tr>\n",
              "    <tr>\n",
              "      <th>USA</th>\n",
              "      <td>327096265</td>\n",
              "      <td>329064917</td>\n",
              "    </tr>\n",
              "    <tr>\n",
              "      <th>Indonesia</th>\n",
              "      <td>267670543</td>\n",
              "      <td>270625568</td>\n",
              "    </tr>\n",
              "    <tr>\n",
              "      <th>Pakistan</th>\n",
              "      <td>212228286</td>\n",
              "      <td>216565318</td>\n",
              "    </tr>\n",
              "    <tr>\n",
              "      <th>Brazil</th>\n",
              "      <td>209469323</td>\n",
              "      <td>211049527</td>\n",
              "    </tr>\n",
              "  </tbody>\n",
              "</table>\n",
              "</div>"
            ],
            "text/plain": [
              "           population2018  population2019\n",
              "India          1352642280      1366417754\n",
              "USA             327096265       329064917\n",
              "Indonesia       267670543       270625568\n",
              "Pakistan        212228286       216565318\n",
              "Brazil          209469323       211049527"
            ]
          },
          "metadata": {
            "tags": []
          },
          "execution_count": 31
        }
      ]
    },
    {
      "cell_type": "markdown",
      "metadata": {
        "id": "3PzRLltI4GJ7"
      },
      "source": [
        "You can slice both rows and columns"
      ]
    },
    {
      "cell_type": "code",
      "metadata": {
        "id": "nZr67pMl4GJ8",
        "outputId": "666cbb0e-9c3f-455b-fbed-61f6e41ff6cd"
      },
      "source": [
        "population.loc['India':'Pakistan', :'population2018']"
      ],
      "execution_count": null,
      "outputs": [
        {
          "output_type": "execute_result",
          "data": {
            "text/html": [
              "<div>\n",
              "<style>\n",
              "    .dataframe thead tr:only-child th {\n",
              "        text-align: right;\n",
              "    }\n",
              "\n",
              "    .dataframe thead th {\n",
              "        text-align: left;\n",
              "    }\n",
              "\n",
              "    .dataframe tbody tr th {\n",
              "        vertical-align: top;\n",
              "    }\n",
              "</style>\n",
              "<table border=\"1\" class=\"dataframe\">\n",
              "  <thead>\n",
              "    <tr style=\"text-align: right;\">\n",
              "      <th></th>\n",
              "      <th>population2018</th>\n",
              "    </tr>\n",
              "  </thead>\n",
              "  <tbody>\n",
              "    <tr>\n",
              "      <th>India</th>\n",
              "      <td>1352642280</td>\n",
              "    </tr>\n",
              "    <tr>\n",
              "      <th>USA</th>\n",
              "      <td>327096265</td>\n",
              "    </tr>\n",
              "    <tr>\n",
              "      <th>Indonesia</th>\n",
              "      <td>267670543</td>\n",
              "    </tr>\n",
              "    <tr>\n",
              "      <th>Pakistan</th>\n",
              "      <td>212228286</td>\n",
              "    </tr>\n",
              "  </tbody>\n",
              "</table>\n",
              "</div>"
            ],
            "text/plain": [
              "           population2018\n",
              "India          1352642280\n",
              "USA             327096265\n",
              "Indonesia       267670543\n",
              "Pakistan        212228286"
            ]
          },
          "metadata": {
            "tags": []
          },
          "execution_count": 32
        }
      ]
    },
    {
      "cell_type": "code",
      "metadata": {
        "id": "jiCNVLVJ4GKD",
        "outputId": "a0ef9113-9b5a-4b7f-9676-da97967f49aa"
      },
      "source": [
        "population.iloc[:2, 1:]"
      ],
      "execution_count": null,
      "outputs": [
        {
          "output_type": "execute_result",
          "data": {
            "text/html": [
              "<div>\n",
              "<style>\n",
              "    .dataframe thead tr:only-child th {\n",
              "        text-align: right;\n",
              "    }\n",
              "\n",
              "    .dataframe thead th {\n",
              "        text-align: left;\n",
              "    }\n",
              "\n",
              "    .dataframe tbody tr th {\n",
              "        vertical-align: top;\n",
              "    }\n",
              "</style>\n",
              "<table border=\"1\" class=\"dataframe\">\n",
              "  <thead>\n",
              "    <tr style=\"text-align: right;\">\n",
              "      <th></th>\n",
              "      <th>population2019</th>\n",
              "    </tr>\n",
              "  </thead>\n",
              "  <tbody>\n",
              "    <tr>\n",
              "      <th>China</th>\n",
              "      <td>1433783686</td>\n",
              "    </tr>\n",
              "    <tr>\n",
              "      <th>India</th>\n",
              "      <td>1366417754</td>\n",
              "    </tr>\n",
              "  </tbody>\n",
              "</table>\n",
              "</div>"
            ],
            "text/plain": [
              "       population2019\n",
              "China      1433783686\n",
              "India      1366417754"
            ]
          },
          "metadata": {
            "tags": []
          },
          "execution_count": 33
        }
      ]
    },
    {
      "cell_type": "code",
      "metadata": {
        "id": "3t1HlokQ4GKH",
        "outputId": "8bdb1fc8-bb73-4f81-80a6-aa6056dee49b"
      },
      "source": [
        "population.describe()"
      ],
      "execution_count": null,
      "outputs": [
        {
          "output_type": "execute_result",
          "data": {
            "text/html": [
              "<div>\n",
              "<style>\n",
              "    .dataframe thead tr:only-child th {\n",
              "        text-align: right;\n",
              "    }\n",
              "\n",
              "    .dataframe thead th {\n",
              "        text-align: left;\n",
              "    }\n",
              "\n",
              "    .dataframe tbody tr th {\n",
              "        vertical-align: top;\n",
              "    }\n",
              "</style>\n",
              "<table border=\"1\" class=\"dataframe\">\n",
              "  <thead>\n",
              "    <tr style=\"text-align: right;\">\n",
              "      <th></th>\n",
              "      <th>population2018</th>\n",
              "      <th>population2019</th>\n",
              "    </tr>\n",
              "  </thead>\n",
              "  <tbody>\n",
              "    <tr>\n",
              "      <th>count</th>\n",
              "      <td>9.000000e+00</td>\n",
              "      <td>9.000000e+00</td>\n",
              "    </tr>\n",
              "    <tr>\n",
              "      <th>mean</th>\n",
              "      <td>4.777489e+08</td>\n",
              "      <td>4.819321e+08</td>\n",
              "    </tr>\n",
              "    <tr>\n",
              "      <th>std</th>\n",
              "      <td>5.204360e+08</td>\n",
              "      <td>5.236554e+08</td>\n",
              "    </tr>\n",
              "    <tr>\n",
              "      <th>min</th>\n",
              "      <td>1.457340e+08</td>\n",
              "      <td>1.458723e+08</td>\n",
              "    </tr>\n",
              "    <tr>\n",
              "      <th>25%</th>\n",
              "      <td>1.958747e+08</td>\n",
              "      <td>2.009636e+08</td>\n",
              "    </tr>\n",
              "    <tr>\n",
              "      <th>50%</th>\n",
              "      <td>2.122283e+08</td>\n",
              "      <td>2.165653e+08</td>\n",
              "    </tr>\n",
              "    <tr>\n",
              "      <th>75%</th>\n",
              "      <td>3.270963e+08</td>\n",
              "      <td>3.290649e+08</td>\n",
              "    </tr>\n",
              "    <tr>\n",
              "      <th>max</th>\n",
              "      <td>1.427648e+09</td>\n",
              "      <td>1.433784e+09</td>\n",
              "    </tr>\n",
              "  </tbody>\n",
              "</table>\n",
              "</div>"
            ],
            "text/plain": [
              "       population2018  population2019\n",
              "count    9.000000e+00    9.000000e+00\n",
              "mean     4.777489e+08    4.819321e+08\n",
              "std      5.204360e+08    5.236554e+08\n",
              "min      1.457340e+08    1.458723e+08\n",
              "25%      1.958747e+08    2.009636e+08\n",
              "50%      2.122283e+08    2.165653e+08\n",
              "75%      3.270963e+08    3.290649e+08\n",
              "max      1.427648e+09    1.433784e+09"
            ]
          },
          "metadata": {
            "tags": []
          },
          "execution_count": 34
        }
      ]
    },
    {
      "cell_type": "code",
      "metadata": {
        "id": "FUVK7TK54GKN",
        "outputId": "46ac0f3d-bb99-4946-e1aa-de81c8931e9f"
      },
      "source": [
        "population.info()"
      ],
      "execution_count": null,
      "outputs": [
        {
          "output_type": "stream",
          "text": [
            "<class 'pandas.core.frame.DataFrame'>\n",
            "Index: 9 entries, China to Russia\n",
            "Data columns (total 2 columns):\n",
            "population2018    9 non-null int64\n",
            "population2019    9 non-null int64\n",
            "dtypes: int64(2)\n",
            "memory usage: 536.0+ bytes\n"
          ],
          "name": "stdout"
        }
      ]
    },
    {
      "cell_type": "markdown",
      "metadata": {
        "id": "oekeAlKG4GKV"
      },
      "source": [
        "Finally, you can extract observations that meet a specific criteria. For example, suppose we wanted to extract the countries with a population less than 1 Billion. We can first create a boolean mask with the condition that we would like to specify:"
      ]
    },
    {
      "cell_type": "code",
      "metadata": {
        "id": "nVGclx984GKX",
        "outputId": "73bb68b9-f400-42c9-e3a5-05e4c72387db"
      },
      "source": [
        "population['population2019']< 1000000000"
      ],
      "execution_count": null,
      "outputs": [
        {
          "output_type": "execute_result",
          "data": {
            "text/plain": [
              "China         False\n",
              "India         False\n",
              "USA            True\n",
              "Indonesia      True\n",
              "Pakistan       True\n",
              "Brazil         True\n",
              "Nigeria        True\n",
              "Bangladesh     True\n",
              "Russia         True\n",
              "Name: population2019, dtype: bool"
            ]
          },
          "metadata": {
            "tags": []
          },
          "execution_count": 36
        }
      ]
    },
    {
      "cell_type": "markdown",
      "metadata": {
        "id": "uFaWqcsM4GKd"
      },
      "source": [
        "Next, we can give the boolean mask to the .loc operator to extract the rows of interest:"
      ]
    },
    {
      "cell_type": "code",
      "metadata": {
        "id": "6RsQEVaP4GKe",
        "outputId": "7079eb31-1b22-4494-a372-301929236fd5"
      },
      "source": [
        "population.loc[population['population2019']< 1000000000]"
      ],
      "execution_count": null,
      "outputs": [
        {
          "output_type": "execute_result",
          "data": {
            "text/html": [
              "<div>\n",
              "<style>\n",
              "    .dataframe thead tr:only-child th {\n",
              "        text-align: right;\n",
              "    }\n",
              "\n",
              "    .dataframe thead th {\n",
              "        text-align: left;\n",
              "    }\n",
              "\n",
              "    .dataframe tbody tr th {\n",
              "        vertical-align: top;\n",
              "    }\n",
              "</style>\n",
              "<table border=\"1\" class=\"dataframe\">\n",
              "  <thead>\n",
              "    <tr style=\"text-align: right;\">\n",
              "      <th></th>\n",
              "      <th>population2018</th>\n",
              "      <th>population2019</th>\n",
              "    </tr>\n",
              "  </thead>\n",
              "  <tbody>\n",
              "    <tr>\n",
              "      <th>USA</th>\n",
              "      <td>327096265</td>\n",
              "      <td>329064917</td>\n",
              "    </tr>\n",
              "    <tr>\n",
              "      <th>Indonesia</th>\n",
              "      <td>267670543</td>\n",
              "      <td>270625568</td>\n",
              "    </tr>\n",
              "    <tr>\n",
              "      <th>Pakistan</th>\n",
              "      <td>212228286</td>\n",
              "      <td>216565318</td>\n",
              "    </tr>\n",
              "    <tr>\n",
              "      <th>Brazil</th>\n",
              "      <td>209469323</td>\n",
              "      <td>211049527</td>\n",
              "    </tr>\n",
              "    <tr>\n",
              "      <th>Nigeria</th>\n",
              "      <td>195874683</td>\n",
              "      <td>200963599</td>\n",
              "    </tr>\n",
              "    <tr>\n",
              "      <th>Bangladesh</th>\n",
              "      <td>161376708</td>\n",
              "      <td>163046161</td>\n",
              "    </tr>\n",
              "    <tr>\n",
              "      <th>Russia</th>\n",
              "      <td>145734038</td>\n",
              "      <td>145872256</td>\n",
              "    </tr>\n",
              "  </tbody>\n",
              "</table>\n",
              "</div>"
            ],
            "text/plain": [
              "            population2018  population2019\n",
              "USA              327096265       329064917\n",
              "Indonesia        267670543       270625568\n",
              "Pakistan         212228286       216565318\n",
              "Brazil           209469323       211049527\n",
              "Nigeria          195874683       200963599\n",
              "Bangladesh       161376708       163046161\n",
              "Russia           145734038       145872256"
            ]
          },
          "metadata": {
            "tags": []
          },
          "execution_count": 37
        }
      ]
    },
    {
      "cell_type": "markdown",
      "metadata": {
        "id": "giMBTH-74GKt"
      },
      "source": [
        "New columns can be created from existing colums in the data frame. For example, let's compute the population growth between 2018 and 2019 and label the column 'Growth.' Note that we do not need to create a loop to iterate through the data frame; the computation is automatically vectorized. "
      ]
    },
    {
      "cell_type": "code",
      "metadata": {
        "id": "kik6uSMh4GKv",
        "outputId": "15ec721c-f3b2-438c-adf5-2bb98de1e2f1"
      },
      "source": [
        "population['Growth'] = 100* (population['population2019']-population['population2018'])/population['population2018']\n",
        "population"
      ],
      "execution_count": null,
      "outputs": [
        {
          "output_type": "execute_result",
          "data": {
            "text/html": [
              "<div>\n",
              "<style>\n",
              "    .dataframe thead tr:only-child th {\n",
              "        text-align: right;\n",
              "    }\n",
              "\n",
              "    .dataframe thead th {\n",
              "        text-align: left;\n",
              "    }\n",
              "\n",
              "    .dataframe tbody tr th {\n",
              "        vertical-align: top;\n",
              "    }\n",
              "</style>\n",
              "<table border=\"1\" class=\"dataframe\">\n",
              "  <thead>\n",
              "    <tr style=\"text-align: right;\">\n",
              "      <th></th>\n",
              "      <th>population2018</th>\n",
              "      <th>population2019</th>\n",
              "      <th>Growth</th>\n",
              "    </tr>\n",
              "  </thead>\n",
              "  <tbody>\n",
              "    <tr>\n",
              "      <th>China</th>\n",
              "      <td>1427647786</td>\n",
              "      <td>1433783686</td>\n",
              "      <td>0.429791</td>\n",
              "    </tr>\n",
              "    <tr>\n",
              "      <th>India</th>\n",
              "      <td>1352642280</td>\n",
              "      <td>1366417754</td>\n",
              "      <td>1.018412</td>\n",
              "    </tr>\n",
              "    <tr>\n",
              "      <th>USA</th>\n",
              "      <td>327096265</td>\n",
              "      <td>329064917</td>\n",
              "      <td>0.601857</td>\n",
              "    </tr>\n",
              "    <tr>\n",
              "      <th>Indonesia</th>\n",
              "      <td>267670543</td>\n",
              "      <td>270625568</td>\n",
              "      <td>1.103978</td>\n",
              "    </tr>\n",
              "    <tr>\n",
              "      <th>Pakistan</th>\n",
              "      <td>212228286</td>\n",
              "      <td>216565318</td>\n",
              "      <td>2.043569</td>\n",
              "    </tr>\n",
              "    <tr>\n",
              "      <th>Brazil</th>\n",
              "      <td>209469323</td>\n",
              "      <td>211049527</td>\n",
              "      <td>0.754384</td>\n",
              "    </tr>\n",
              "    <tr>\n",
              "      <th>Nigeria</th>\n",
              "      <td>195874683</td>\n",
              "      <td>200963599</td>\n",
              "      <td>2.598047</td>\n",
              "    </tr>\n",
              "    <tr>\n",
              "      <th>Bangladesh</th>\n",
              "      <td>161376708</td>\n",
              "      <td>163046161</td>\n",
              "      <td>1.034507</td>\n",
              "    </tr>\n",
              "    <tr>\n",
              "      <th>Russia</th>\n",
              "      <td>145734038</td>\n",
              "      <td>145872256</td>\n",
              "      <td>0.094843</td>\n",
              "    </tr>\n",
              "  </tbody>\n",
              "</table>\n",
              "</div>"
            ],
            "text/plain": [
              "            population2018  population2019    Growth\n",
              "China           1427647786      1433783686  0.429791\n",
              "India           1352642280      1366417754  1.018412\n",
              "USA              327096265       329064917  0.601857\n",
              "Indonesia        267670543       270625568  1.103978\n",
              "Pakistan         212228286       216565318  2.043569\n",
              "Brazil           209469323       211049527  0.754384\n",
              "Nigeria          195874683       200963599  2.598047\n",
              "Bangladesh       161376708       163046161  1.034507\n",
              "Russia           145734038       145872256  0.094843"
            ]
          },
          "metadata": {
            "tags": []
          },
          "execution_count": 38
        }
      ]
    },
    {
      "cell_type": "markdown",
      "metadata": {
        "id": "O9arz3Z24GK0"
      },
      "source": [
        "You can also import data in a variety of formats from a URL into a pandas data frame.  For example, this code imports the IRIS dataset, stored as a simple CSV file, from the UC Irvine Machine Learning repository, creating a data frame with 5 columns. "
      ]
    },
    {
      "cell_type": "code",
      "metadata": {
        "id": "UnNkO3KW4GK3",
        "outputId": "21bfd8d3-18c0-4317-fc52-5d7a87ca2563"
      },
      "source": [
        "iris_url = 'http://archive.ics.uci.edu/ml/machine-learning-databases/iris/iris.data'\n",
        "iris = pd.read_csv(iris_url, sep=',')\n",
        "\n",
        "attributes = [\"sepal_length\", \"sepal_width\", \"petal_length\", \"petal_width\", \"class\"]\n",
        "iris.columns = attributes\n",
        "\n",
        "iris.head()"
      ],
      "execution_count": null,
      "outputs": [
        {
          "output_type": "execute_result",
          "data": {
            "text/html": [
              "<div>\n",
              "<style>\n",
              "    .dataframe thead tr:only-child th {\n",
              "        text-align: right;\n",
              "    }\n",
              "\n",
              "    .dataframe thead th {\n",
              "        text-align: left;\n",
              "    }\n",
              "\n",
              "    .dataframe tbody tr th {\n",
              "        vertical-align: top;\n",
              "    }\n",
              "</style>\n",
              "<table border=\"1\" class=\"dataframe\">\n",
              "  <thead>\n",
              "    <tr style=\"text-align: right;\">\n",
              "      <th></th>\n",
              "      <th>sepal_length</th>\n",
              "      <th>sepal_width</th>\n",
              "      <th>petal_length</th>\n",
              "      <th>petal_width</th>\n",
              "      <th>class</th>\n",
              "    </tr>\n",
              "  </thead>\n",
              "  <tbody>\n",
              "    <tr>\n",
              "      <th>0</th>\n",
              "      <td>4.9</td>\n",
              "      <td>3.0</td>\n",
              "      <td>1.4</td>\n",
              "      <td>0.2</td>\n",
              "      <td>Iris-setosa</td>\n",
              "    </tr>\n",
              "    <tr>\n",
              "      <th>1</th>\n",
              "      <td>4.7</td>\n",
              "      <td>3.2</td>\n",
              "      <td>1.3</td>\n",
              "      <td>0.2</td>\n",
              "      <td>Iris-setosa</td>\n",
              "    </tr>\n",
              "    <tr>\n",
              "      <th>2</th>\n",
              "      <td>4.6</td>\n",
              "      <td>3.1</td>\n",
              "      <td>1.5</td>\n",
              "      <td>0.2</td>\n",
              "      <td>Iris-setosa</td>\n",
              "    </tr>\n",
              "    <tr>\n",
              "      <th>3</th>\n",
              "      <td>5.0</td>\n",
              "      <td>3.6</td>\n",
              "      <td>1.4</td>\n",
              "      <td>0.2</td>\n",
              "      <td>Iris-setosa</td>\n",
              "    </tr>\n",
              "    <tr>\n",
              "      <th>4</th>\n",
              "      <td>5.4</td>\n",
              "      <td>3.9</td>\n",
              "      <td>1.7</td>\n",
              "      <td>0.4</td>\n",
              "      <td>Iris-setosa</td>\n",
              "    </tr>\n",
              "  </tbody>\n",
              "</table>\n",
              "</div>"
            ],
            "text/plain": [
              "   sepal_length  sepal_width  petal_length  petal_width        class\n",
              "0           4.9          3.0           1.4          0.2  Iris-setosa\n",
              "1           4.7          3.2           1.3          0.2  Iris-setosa\n",
              "2           4.6          3.1           1.5          0.2  Iris-setosa\n",
              "3           5.0          3.6           1.4          0.2  Iris-setosa\n",
              "4           5.4          3.9           1.7          0.4  Iris-setosa"
            ]
          },
          "metadata": {
            "tags": []
          },
          "execution_count": 39
        }
      ]
    },
    {
      "cell_type": "markdown",
      "metadata": {
        "id": "8piajEdm4GK_"
      },
      "source": [
        "### Creating Functions"
      ]
    },
    {
      "cell_type": "markdown",
      "metadata": {
        "id": "QlSWn7eE4GLA"
      },
      "source": [
        "Like any programming language, Python allows you to create user defined functions. Two new keywords are introduced: `def` and `return`. Functions can accept arguments and can return a value back to the code that invoked the function. Finally, functions can include comments which explain what the function does. Triple-quotes create what are called a **docstring** which can be accessed using the `help` function. "
      ]
    },
    {
      "cell_type": "code",
      "metadata": {
        "id": "hEOpI4zz4GLB",
        "outputId": "35e0103a-acf8-4cfa-adaf-6bf42998d554"
      },
      "source": [
        "def average(a, b):\n",
        "    \"\"\"This function returns the average of two numbers\"\"\"\n",
        "    return (a + b)/2\n",
        "\n",
        "print(average(10, 20))"
      ],
      "execution_count": null,
      "outputs": [
        {
          "output_type": "stream",
          "text": [
            "15.0\n"
          ],
          "name": "stdout"
        }
      ]
    },
    {
      "cell_type": "code",
      "metadata": {
        "id": "Oxj3zyIm4GLG",
        "outputId": "36b13b36-60f0-4a88-eaa9-85028a04bebe"
      },
      "source": [
        "help(average)"
      ],
      "execution_count": null,
      "outputs": [
        {
          "output_type": "stream",
          "text": [
            "Help on function average in module __main__:\n",
            "\n",
            "average(a, b)\n",
            "    This function returns the average of two numbers\n",
            "\n"
          ],
          "name": "stdout"
        }
      ]
    },
    {
      "cell_type": "code",
      "metadata": {
        "id": "rd7nkml44GLM",
        "outputId": "92259cd0-77ec-44dd-cffc-aa345f783f34"
      },
      "source": [
        "average(10, 11, 12)"
      ],
      "execution_count": null,
      "outputs": [
        {
          "output_type": "error",
          "ename": "TypeError",
          "evalue": "average() takes 2 positional arguments but 3 were given",
          "traceback": [
            "\u001b[0;31m---------------------------------------------------------------------------\u001b[0m",
            "\u001b[0;31mTypeError\u001b[0m                                 Traceback (most recent call last)",
            "\u001b[0;32m<ipython-input-42-4474ce9527dc>\u001b[0m in \u001b[0;36m<module>\u001b[0;34m()\u001b[0m\n\u001b[0;32m----> 1\u001b[0;31m \u001b[0maverage\u001b[0m\u001b[0;34m(\u001b[0m\u001b[0;36m10\u001b[0m\u001b[0;34m,\u001b[0m \u001b[0;36m11\u001b[0m\u001b[0;34m,\u001b[0m \u001b[0;36m12\u001b[0m\u001b[0;34m)\u001b[0m\u001b[0;34m\u001b[0m\u001b[0m\n\u001b[0m",
            "\u001b[0;31mTypeError\u001b[0m: average() takes 2 positional arguments but 3 were given"
          ]
        }
      ]
    },
    {
      "cell_type": "markdown",
      "metadata": {
        "id": "YEL2PMfU4GLX"
      },
      "source": [
        "We have only defined the average function to take two arguments, but clearly we would like to be able to extend this function to an unknown number of arguments. "
      ]
    },
    {
      "cell_type": "code",
      "metadata": {
        "id": "6R2yih264GLY",
        "outputId": "a460d9f6-a1df-401c-bd22-bc9325b54375"
      },
      "source": [
        "def average_general(*args):\n",
        "    \"\"\"This is a more general version of the average function which will take the average of any number of arguments\"\"\"\n",
        "    summation = 0\n",
        "    num = 0\n",
        "    for a in args:\n",
        "        summation += a\n",
        "        num += 1\n",
        "    return summation/num\n",
        "\n",
        "average_general(10,11,12, 13)"
      ],
      "execution_count": null,
      "outputs": [
        {
          "output_type": "execute_result",
          "data": {
            "text/plain": [
              "11.5"
            ]
          },
          "metadata": {
            "tags": []
          },
          "execution_count": 43
        }
      ]
    },
    {
      "cell_type": "markdown",
      "metadata": {
        "id": "ME3EAvBp4GLh"
      },
      "source": [
        "## Reading data from a file into a DataFrame"
      ]
    },
    {
      "cell_type": "code",
      "metadata": {
        "collapsed": true,
        "id": "jGgApe5Z4GLi"
      },
      "source": [
        "iris = pd.read_csv(\"http://archive.ics.uci.edu/ml/machine-learning-databases/iris/iris.data\", header = None, \n",
        "                   names = ['sepal_length', 'sepal_width', 'petal_length', 'petal_width', 'class'])"
      ],
      "execution_count": null,
      "outputs": []
    },
    {
      "cell_type": "code",
      "metadata": {
        "id": "l43KMycS4GLn",
        "outputId": "2c97119a-bf8f-4d38-ef5c-5487eb55bbf5"
      },
      "source": [
        "iris.info()"
      ],
      "execution_count": null,
      "outputs": [
        {
          "output_type": "stream",
          "text": [
            "<class 'pandas.core.frame.DataFrame'>\n",
            "RangeIndex: 150 entries, 0 to 149\n",
            "Data columns (total 5 columns):\n",
            "sepal_length    150 non-null float64\n",
            "sepal_width     150 non-null float64\n",
            "petal_length    150 non-null float64\n",
            "petal_width     150 non-null float64\n",
            "class           150 non-null object\n",
            "dtypes: float64(4), object(1)\n",
            "memory usage: 5.9+ KB\n"
          ],
          "name": "stdout"
        }
      ]
    },
    {
      "cell_type": "code",
      "metadata": {
        "id": "2Ph7LYIt4GL2",
        "outputId": "ed9607e6-1307-4418-f4a4-07f07a4b8123"
      },
      "source": [
        "iris.describe()"
      ],
      "execution_count": null,
      "outputs": [
        {
          "output_type": "execute_result",
          "data": {
            "text/html": [
              "<div>\n",
              "<style>\n",
              "    .dataframe thead tr:only-child th {\n",
              "        text-align: right;\n",
              "    }\n",
              "\n",
              "    .dataframe thead th {\n",
              "        text-align: left;\n",
              "    }\n",
              "\n",
              "    .dataframe tbody tr th {\n",
              "        vertical-align: top;\n",
              "    }\n",
              "</style>\n",
              "<table border=\"1\" class=\"dataframe\">\n",
              "  <thead>\n",
              "    <tr style=\"text-align: right;\">\n",
              "      <th></th>\n",
              "      <th>sepal_length</th>\n",
              "      <th>sepal_width</th>\n",
              "      <th>petal_length</th>\n",
              "      <th>petal_width</th>\n",
              "    </tr>\n",
              "  </thead>\n",
              "  <tbody>\n",
              "    <tr>\n",
              "      <th>count</th>\n",
              "      <td>150.000000</td>\n",
              "      <td>150.000000</td>\n",
              "      <td>150.000000</td>\n",
              "      <td>150.000000</td>\n",
              "    </tr>\n",
              "    <tr>\n",
              "      <th>mean</th>\n",
              "      <td>5.843333</td>\n",
              "      <td>3.054000</td>\n",
              "      <td>3.758667</td>\n",
              "      <td>1.198667</td>\n",
              "    </tr>\n",
              "    <tr>\n",
              "      <th>std</th>\n",
              "      <td>0.828066</td>\n",
              "      <td>0.433594</td>\n",
              "      <td>1.764420</td>\n",
              "      <td>0.763161</td>\n",
              "    </tr>\n",
              "    <tr>\n",
              "      <th>min</th>\n",
              "      <td>4.300000</td>\n",
              "      <td>2.000000</td>\n",
              "      <td>1.000000</td>\n",
              "      <td>0.100000</td>\n",
              "    </tr>\n",
              "    <tr>\n",
              "      <th>25%</th>\n",
              "      <td>5.100000</td>\n",
              "      <td>2.800000</td>\n",
              "      <td>1.600000</td>\n",
              "      <td>0.300000</td>\n",
              "    </tr>\n",
              "    <tr>\n",
              "      <th>50%</th>\n",
              "      <td>5.800000</td>\n",
              "      <td>3.000000</td>\n",
              "      <td>4.350000</td>\n",
              "      <td>1.300000</td>\n",
              "    </tr>\n",
              "    <tr>\n",
              "      <th>75%</th>\n",
              "      <td>6.400000</td>\n",
              "      <td>3.300000</td>\n",
              "      <td>5.100000</td>\n",
              "      <td>1.800000</td>\n",
              "    </tr>\n",
              "    <tr>\n",
              "      <th>max</th>\n",
              "      <td>7.900000</td>\n",
              "      <td>4.400000</td>\n",
              "      <td>6.900000</td>\n",
              "      <td>2.500000</td>\n",
              "    </tr>\n",
              "  </tbody>\n",
              "</table>\n",
              "</div>"
            ],
            "text/plain": [
              "       sepal_length  sepal_width  petal_length  petal_width\n",
              "count    150.000000   150.000000    150.000000   150.000000\n",
              "mean       5.843333     3.054000      3.758667     1.198667\n",
              "std        0.828066     0.433594      1.764420     0.763161\n",
              "min        4.300000     2.000000      1.000000     0.100000\n",
              "25%        5.100000     2.800000      1.600000     0.300000\n",
              "50%        5.800000     3.000000      4.350000     1.300000\n",
              "75%        6.400000     3.300000      5.100000     1.800000\n",
              "max        7.900000     4.400000      6.900000     2.500000"
            ]
          },
          "metadata": {
            "tags": []
          },
          "execution_count": 46
        }
      ]
    },
    {
      "cell_type": "markdown",
      "metadata": {
        "id": "8lGBorsw4GMD"
      },
      "source": [
        "## Some useful tricks and tips"
      ]
    },
    {
      "cell_type": "markdown",
      "metadata": {
        "id": "f5U0-5644GME"
      },
      "source": [
        "There are a few different ways to get information on functions or modules in Python. For example, you can find additional information on the Python `list` data structure:\n",
        "\n",
        "`help(list)`\n",
        "\n",
        "`list?`"
      ]
    },
    {
      "cell_type": "code",
      "metadata": {
        "id": "AIW57zt_4GMF",
        "outputId": "d7161db3-8d11-4499-b4fc-9573bc986475"
      },
      "source": [
        "help(list)"
      ],
      "execution_count": null,
      "outputs": [
        {
          "output_type": "stream",
          "text": [
            "Help on class list in module builtins:\n",
            "\n",
            "class list(object)\n",
            " |  list() -> new empty list\n",
            " |  list(iterable) -> new list initialized from iterable's items\n",
            " |  \n",
            " |  Methods defined here:\n",
            " |  \n",
            " |  __add__(self, value, /)\n",
            " |      Return self+value.\n",
            " |  \n",
            " |  __contains__(self, key, /)\n",
            " |      Return key in self.\n",
            " |  \n",
            " |  __delitem__(self, key, /)\n",
            " |      Delete self[key].\n",
            " |  \n",
            " |  __eq__(self, value, /)\n",
            " |      Return self==value.\n",
            " |  \n",
            " |  __ge__(self, value, /)\n",
            " |      Return self>=value.\n",
            " |  \n",
            " |  __getattribute__(self, name, /)\n",
            " |      Return getattr(self, name).\n",
            " |  \n",
            " |  __getitem__(...)\n",
            " |      x.__getitem__(y) <==> x[y]\n",
            " |  \n",
            " |  __gt__(self, value, /)\n",
            " |      Return self>value.\n",
            " |  \n",
            " |  __iadd__(self, value, /)\n",
            " |      Implement self+=value.\n",
            " |  \n",
            " |  __imul__(self, value, /)\n",
            " |      Implement self*=value.\n",
            " |  \n",
            " |  __init__(self, /, *args, **kwargs)\n",
            " |      Initialize self.  See help(type(self)) for accurate signature.\n",
            " |  \n",
            " |  __iter__(self, /)\n",
            " |      Implement iter(self).\n",
            " |  \n",
            " |  __le__(self, value, /)\n",
            " |      Return self<=value.\n",
            " |  \n",
            " |  __len__(self, /)\n",
            " |      Return len(self).\n",
            " |  \n",
            " |  __lt__(self, value, /)\n",
            " |      Return self<value.\n",
            " |  \n",
            " |  __mul__(self, value, /)\n",
            " |      Return self*value.n\n",
            " |  \n",
            " |  __ne__(self, value, /)\n",
            " |      Return self!=value.\n",
            " |  \n",
            " |  __new__(*args, **kwargs) from builtins.type\n",
            " |      Create and return a new object.  See help(type) for accurate signature.\n",
            " |  \n",
            " |  __repr__(self, /)\n",
            " |      Return repr(self).\n",
            " |  \n",
            " |  __reversed__(...)\n",
            " |      L.__reversed__() -- return a reverse iterator over the list\n",
            " |  \n",
            " |  __rmul__(self, value, /)\n",
            " |      Return self*value.\n",
            " |  \n",
            " |  __setitem__(self, key, value, /)\n",
            " |      Set self[key] to value.\n",
            " |  \n",
            " |  __sizeof__(...)\n",
            " |      L.__sizeof__() -- size of L in memory, in bytes\n",
            " |  \n",
            " |  append(...)\n",
            " |      L.append(object) -> None -- append object to end\n",
            " |  \n",
            " |  clear(...)\n",
            " |      L.clear() -> None -- remove all items from L\n",
            " |  \n",
            " |  copy(...)\n",
            " |      L.copy() -> list -- a shallow copy of L\n",
            " |  \n",
            " |  count(...)\n",
            " |      L.count(value) -> integer -- return number of occurrences of value\n",
            " |  \n",
            " |  extend(...)\n",
            " |      L.extend(iterable) -> None -- extend list by appending elements from the iterable\n",
            " |  \n",
            " |  index(...)\n",
            " |      L.index(value, [start, [stop]]) -> integer -- return first index of value.\n",
            " |      Raises ValueError if the value is not present.\n",
            " |  \n",
            " |  insert(...)\n",
            " |      L.insert(index, object) -- insert object before index\n",
            " |  \n",
            " |  pop(...)\n",
            " |      L.pop([index]) -> item -- remove and return item at index (default last).\n",
            " |      Raises IndexError if list is empty or index is out of range.\n",
            " |  \n",
            " |  remove(...)\n",
            " |      L.remove(value) -> None -- remove first occurrence of value.\n",
            " |      Raises ValueError if the value is not present.\n",
            " |  \n",
            " |  reverse(...)\n",
            " |      L.reverse() -- reverse *IN PLACE*\n",
            " |  \n",
            " |  sort(...)\n",
            " |      L.sort(key=None, reverse=False) -> None -- stable sort *IN PLACE*\n",
            " |  \n",
            " |  ----------------------------------------------------------------------\n",
            " |  Data and other attributes defined here:\n",
            " |  \n",
            " |  __hash__ = None\n",
            "\n"
          ],
          "name": "stdout"
        }
      ]
    },
    {
      "cell_type": "markdown",
      "metadata": {
        "id": "8hjs5PhZ4GMN"
      },
      "source": [
        "Source code of the object or function that you are interested in can be accessed using `??`. In some cases, not much information is displayed because the object or function is not written in Python. Therefore, this shortcut is often most useful with user defined functions. "
      ]
    },
    {
      "cell_type": "code",
      "metadata": {
        "collapsed": true,
        "id": "IW56D7zr4GMQ"
      },
      "source": [
        "list??"
      ],
      "execution_count": null,
      "outputs": []
    },
    {
      "cell_type": "markdown",
      "metadata": {
        "id": "9EBx6Vcu4GMU"
      },
      "source": [
        "You can use the TAB key for autocompletion and exploration of the contents of objects or modules. Try typing `np.` followed by the TAB key in a code cell. "
      ]
    },
    {
      "cell_type": "code",
      "metadata": {
        "id": "ZgzZJcos4GMV"
      },
      "source": [
        "np."
      ],
      "execution_count": null,
      "outputs": []
    },
    {
      "cell_type": "markdown",
      "metadata": {
        "id": "DLdlGPBK4GMd"
      },
      "source": [
        "Wildcard matching is useful to search for every object in the name space that contains a particular string. For example, this code returns all objects which have *Warning* in the name:"
      ]
    },
    {
      "cell_type": "code",
      "metadata": {
        "collapsed": true,
        "id": "PfwonhTL4GMh"
      },
      "source": [
        "*Warning*?"
      ],
      "execution_count": null,
      "outputs": []
    },
    {
      "cell_type": "markdown",
      "metadata": {
        "id": "gKmOCKQZ4GMu"
      },
      "source": [
        "## Further References"
      ]
    },
    {
      "cell_type": "markdown",
      "metadata": {
        "id": "CG5QsOdz4GMz"
      },
      "source": [
        "Documentation on matplotlib: https://matplotlib.org\n",
        "\n",
        "Documentation on pandas: https://pandas.pydata.org\n",
        "\n",
        "*Python Data Science Handbook* by Jake VanderPlas"
      ]
    }
  ]
}