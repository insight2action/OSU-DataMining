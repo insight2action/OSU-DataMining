{
  "nbformat": 4,
  "nbformat_minor": 0,
  "metadata": {
    "kernelspec": {
      "display_name": "Python 3",
      "language": "python",
      "name": "python3"
    },
    "language_info": {
      "codemirror_mode": {
        "name": "ipython",
        "version": 3
      },
      "file_extension": ".py",
      "mimetype": "text/x-python",
      "name": "python",
      "nbconvert_exporter": "python",
      "pygments_lexer": "ipython3",
      "version": "3.6.0"
    },
    "latex_envs": {
      "LaTeX_envs_menu_present": true,
      "autoclose": false,
      "autocomplete": true,
      "bibliofile": "biblio.bib",
      "cite_by": "apalike",
      "current_citInitial": 1,
      "eqLabelWithNumbers": true,
      "eqNumInitial": 1,
      "hotkeys": {
        "equation": "Ctrl-E",
        "itemize": "Ctrl-I"
      },
      "labels_anchors": false,
      "latex_user_defs": false,
      "report_style_numbering": false,
      "user_envs_cfg": false
    },
    "colab": {
      "name": "1_Python_Overview.ipynb",
      "provenance": [],
      "collapsed_sections": [
        "MH65zVDk4GIX"
      ],
      "toc_visible": true,
      "include_colab_link": true
    }
  },
  "cells": [
    {
      "cell_type": "markdown",
      "metadata": {
        "id": "view-in-github",
        "colab_type": "text"
      },
      "source": [
        "<a href=\"https://colab.research.google.com/github/insight2action/OSU-DataMining/blob/main/1_Python_Overview.ipynb\" target=\"_parent\"><img src=\"https://colab.research.google.com/assets/colab-badge.svg\" alt=\"Open In Colab\"/></a>"
      ]
    },
    {
      "cell_type": "markdown",
      "metadata": {
        "id": "CoNgQ5YV4GFk"
      },
      "source": [
        "### CSE 5243:  Spring 2020\n",
        "# Overview of Python and Jupyter Notebooks\n",
        "\n",
        "updated by J. Van Hulse, January 2020\n",
        "\n",
        "Python has become the standard language in data science and machine learning due to its ease of use, large number of third-party libraries that augment the standard packages, and cost (free!). Furthermore, Jupyter notebooks have become the default Python environment for doing data analysis or modeling. \n",
        "\n",
        "Python is a general purpose programming language, so this notebook provides an overview of Python as it relates to data mining and analysis effort. In addition, you will be exposure to the Jupyter notebook environment. \n",
        "\n",
        "Note that I will work in Python version 3. You should do the same. \n",
        "\n",
        "***"
      ]
    },
    {
      "cell_type": "markdown",
      "metadata": {
        "id": "V60dmez1kuxK"
      },
      "source": [
        "## Jupyter Basics"
      ]
    },
    {
      "cell_type": "markdown",
      "metadata": {
        "id": "O6DcJQppku7P"
      },
      "source": [
        "This is a `markdown` cell. You can write non-executable code here to provide additional explanations of your work. \n",
        "\n",
        "You can also embed *Latex* commands to display mathematical formulas:\n",
        "\n",
        "$$\n",
        "\\sum_{i=1}^n i = \\frac{n(n+1)}{2}\n",
        "$$"
      ]
    },
    {
      "cell_type": "code",
      "metadata": {
        "colab": {
          "base_uri": "https://localhost:8080/"
        },
        "id": "ejXHwoAGkio-",
        "outputId": "aa45853d-909e-4723-9ded-88f4f0e31213"
      },
      "source": [
        "#This is a code cell - you can run Python code here\n",
        "\n",
        "print(\"Hello World!\")"
      ],
      "execution_count": 18,
      "outputs": [
        {
          "output_type": "stream",
          "text": [
            "Hello World!\n"
          ],
          "name": "stdout"
        }
      ]
    },
    {
      "cell_type": "markdown",
      "metadata": {
        "id": "DojKL9kglw6b"
      },
      "source": [
        "You may be curious what version of Python you are running. In a code cell, using the ! causes the command to be executed by the system command line instead of the Python kernel. "
      ]
    },
    {
      "cell_type": "code",
      "metadata": {
        "colab": {
          "base_uri": "https://localhost:8080/"
        },
        "id": "JSUQOCrPlzjW",
        "outputId": "898fcb26-0ba8-417d-ce54-639ca9c08e34"
      },
      "source": [
        "!python --version"
      ],
      "execution_count": 19,
      "outputs": [
        {
          "output_type": "stream",
          "text": [
            "Python 3.7.10\n"
          ],
          "name": "stdout"
        }
      ]
    },
    {
      "cell_type": "markdown",
      "metadata": {
        "id": "KknvuCN34GFn"
      },
      "source": [
        "## Basic Data Structures in Python"
      ]
    },
    {
      "cell_type": "markdown",
      "metadata": {
        "id": "9B3oLTmB4GFo"
      },
      "source": [
        "Besides the usual data types like String, Int, and Boolean, there are three additional data structures that are commonly uesd: `list`, `dictionary`, and `tuple`"
      ]
    },
    {
      "cell_type": "markdown",
      "metadata": {
        "id": "-DL84MIqeYaS"
      },
      "source": [
        "### List"
      ]
    },
    {
      "cell_type": "code",
      "metadata": {
        "id": "mUpOXDnS4GFp",
        "colab": {
          "base_uri": "https://localhost:8080/"
        },
        "outputId": "f44eec62-5825-4a28-cfd5-6c7aa27bbec1"
      },
      "source": [
        "my_list = [1, 2, 3, 4, 5]\n",
        "print(my_list)"
      ],
      "execution_count": 20,
      "outputs": [
        {
          "output_type": "stream",
          "text": [
            "[1, 2, 3, 4, 5]\n"
          ],
          "name": "stdout"
        }
      ]
    },
    {
      "cell_type": "markdown",
      "metadata": {
        "id": "mAS64Lsa4GF4"
      },
      "source": [
        "Python lists are mutable (i.e., the values can change) and they can contain different data types"
      ]
    },
    {
      "cell_type": "code",
      "metadata": {
        "id": "6XSv910G4GF7",
        "colab": {
          "base_uri": "https://localhost:8080/"
        },
        "outputId": "4479d703-0988-45c2-ead7-8ba916673048"
      },
      "source": [
        "my_second_list = [1, \"Fred\", True]\n",
        "print(my_second_list)"
      ],
      "execution_count": 21,
      "outputs": [
        {
          "output_type": "stream",
          "text": [
            "[1, 'Fred', True]\n"
          ],
          "name": "stdout"
        }
      ]
    },
    {
      "cell_type": "markdown",
      "metadata": {
        "id": "4Q0CfIaY4GGE"
      },
      "source": [
        "Individual elements of a list can be accessed using the index position of the list:"
      ]
    },
    {
      "cell_type": "code",
      "metadata": {
        "id": "Lt7QWcq34GGF",
        "colab": {
          "base_uri": "https://localhost:8080/"
        },
        "outputId": "2d587ec0-bb81-4cae-b0ee-c62808b971a4"
      },
      "source": [
        "print(my_second_list[1])"
      ],
      "execution_count": 22,
      "outputs": [
        {
          "output_type": "stream",
          "text": [
            "Fred\n"
          ],
          "name": "stdout"
        }
      ]
    },
    {
      "cell_type": "markdown",
      "metadata": {
        "id": "_pEZkPXIefC3"
      },
      "source": [
        "### Tuples"
      ]
    },
    {
      "cell_type": "markdown",
      "metadata": {
        "id": "EgVtIrOA4GGO"
      },
      "source": [
        "**Tuples** are similar to lists, but they are immutable. Use tuples to hold constants that you do not want to change."
      ]
    },
    {
      "cell_type": "code",
      "metadata": {
        "id": "GHNycjfb4GGP"
      },
      "source": [
        "my_tuple = (2, 5, 10)\n",
        "#my_tuple[0] = 12 #I can't assign 2 to the first element of the tuple. "
      ],
      "execution_count": 23,
      "outputs": []
    },
    {
      "cell_type": "markdown",
      "metadata": {
        "id": "nIEog0lx4GGX"
      },
      "source": [
        "## Dictionaries\n",
        "\n",
        "**Dictionaries** are used to hold data which has a **key-value pair** relationship. "
      ]
    },
    {
      "cell_type": "code",
      "metadata": {
        "id": "_K7EQRJV4GGZ",
        "colab": {
          "base_uri": "https://localhost:8080/"
        },
        "outputId": "b09699e0-f700-4067-bf23-90e31292649e"
      },
      "source": [
        "import datetime\n",
        "my_dictionary = {'name':'George Washington', 'Year of Birth': 1732}\n",
        "print(my_dictionary)"
      ],
      "execution_count": 24,
      "outputs": [
        {
          "output_type": "stream",
          "text": [
            "{'name': 'George Washington', 'Year of Birth': 1732}\n"
          ],
          "name": "stdout"
        }
      ]
    },
    {
      "cell_type": "markdown",
      "metadata": {
        "id": "6Oh8fQRt4GGh"
      },
      "source": [
        "You can access a particular value in the dictionary by specifying the key as follows:"
      ]
    },
    {
      "cell_type": "code",
      "metadata": {
        "id": "28j35PI24GGi",
        "colab": {
          "base_uri": "https://localhost:8080/"
        },
        "outputId": "cd46d4ef-e1bd-4fa9-cac5-9b0ece6f9fe5"
      },
      "source": [
        "print(my_dictionary['Year of Birth'])"
      ],
      "execution_count": 25,
      "outputs": [
        {
          "output_type": "stream",
          "text": [
            "1732\n"
          ],
          "name": "stdout"
        }
      ]
    },
    {
      "cell_type": "markdown",
      "metadata": {
        "id": "8XCi1JWS4GGq"
      },
      "source": [
        "You can also update a value or even add new key-value pairs:"
      ]
    },
    {
      "cell_type": "code",
      "metadata": {
        "id": "VtrM_LzE4GGr",
        "colab": {
          "base_uri": "https://localhost:8080/"
        },
        "outputId": "4f86f150-79fb-4c1f-8e32-5758d50b0f59"
      },
      "source": [
        "my_dictionary['Year of Death'] =  1799\n",
        "print(my_dictionary)"
      ],
      "execution_count": 26,
      "outputs": [
        {
          "output_type": "stream",
          "text": [
            "{'name': 'George Washington', 'Year of Birth': 1732, 'Year of Death': 1799}\n"
          ],
          "name": "stdout"
        }
      ]
    },
    {
      "cell_type": "markdown",
      "metadata": {
        "id": "MInEvPyR4GGx"
      },
      "source": [
        "## Conditional Statements"
      ]
    },
    {
      "cell_type": "markdown",
      "metadata": {
        "id": "DoiRh5MX4GGz"
      },
      "source": [
        "Python has the usual constructs to control program flow, such as the `if` statement:"
      ]
    },
    {
      "cell_type": "code",
      "metadata": {
        "id": "pVJFGndB4GGz",
        "colab": {
          "base_uri": "https://localhost:8080/"
        },
        "outputId": "25613e47-c7fb-4b52-ae2c-1f196e44c71e"
      },
      "source": [
        "a = 15\n",
        "\n",
        "if a < 10:\n",
        "    print(0)\n",
        "elif a == 10:\n",
        "    print(1)\n",
        "else:\n",
        "    print(2)"
      ],
      "execution_count": 27,
      "outputs": [
        {
          "output_type": "stream",
          "text": [
            "2\n"
          ],
          "name": "stdout"
        }
      ]
    },
    {
      "cell_type": "markdown",
      "metadata": {
        "id": "ihKPzjmM4GG7"
      },
      "source": [
        "Here is an example of a `for` loop. When creating a for loop, it is useful to define an **iterable** that the loop can iterate over. In this example, the iterable that I created uses the *range* function. Iterables can be lists, dictionaries, or strings, among many other data types. "
      ]
    },
    {
      "cell_type": "code",
      "metadata": {
        "id": "tI6_rsab4GG8",
        "colab": {
          "base_uri": "https://localhost:8080/"
        },
        "outputId": "ff7031de-7c2c-4e12-eff2-7e91c6b50100"
      },
      "source": [
        "for i in range(5):\n",
        "    print(i)"
      ],
      "execution_count": 28,
      "outputs": [
        {
          "output_type": "stream",
          "text": [
            "0\n",
            "1\n",
            "2\n",
            "3\n",
            "4\n"
          ],
          "name": "stdout"
        }
      ]
    },
    {
      "cell_type": "markdown",
      "metadata": {
        "id": "nj5KRT4-4GHQ"
      },
      "source": [
        "## Functions\n",
        "\n",
        "Like any programming language, Python allows you to create user defined functions. Two new keywords are introduced: `def` and `return`. Functions can accept arguments and can return a value back to the code that invoked the function. Finally, functions can include comments which explain what the function does. Triple-quotes create what are called a **docstring** which can be accessed using the `help` function. "
      ]
    },
    {
      "cell_type": "code",
      "metadata": {
        "id": "hEOpI4zz4GLB",
        "colab": {
          "base_uri": "https://localhost:8080/"
        },
        "outputId": "a51318b4-570c-45a8-978e-df2c7e573ac8"
      },
      "source": [
        "def average(a, b):\n",
        "    \"\"\"This function returns the average of two numbers\"\"\"\n",
        "    return (a + b)/2\n",
        "\n",
        "print(average(10, 20))"
      ],
      "execution_count": 29,
      "outputs": [
        {
          "output_type": "stream",
          "text": [
            "15.0\n"
          ],
          "name": "stdout"
        }
      ]
    },
    {
      "cell_type": "code",
      "metadata": {
        "id": "Oxj3zyIm4GLG",
        "colab": {
          "base_uri": "https://localhost:8080/"
        },
        "outputId": "df84dfc9-9cb3-4b8a-98e1-ad1626b738c0"
      },
      "source": [
        "help(average)"
      ],
      "execution_count": 30,
      "outputs": [
        {
          "output_type": "stream",
          "text": [
            "Help on function average in module __main__:\n",
            "\n",
            "average(a, b)\n",
            "    This function returns the average of two numbers\n",
            "\n"
          ],
          "name": "stdout"
        }
      ]
    },
    {
      "cell_type": "markdown",
      "metadata": {
        "id": "ZaKt9rERU4Q9"
      },
      "source": [
        "You can also retrieve the entire function definition with `??`:"
      ]
    },
    {
      "cell_type": "code",
      "metadata": {
        "id": "5Mdjdc7pUv1T"
      },
      "source": [
        "??average"
      ],
      "execution_count": 31,
      "outputs": []
    },
    {
      "cell_type": "code",
      "metadata": {
        "id": "rd7nkml44GLM"
      },
      "source": [
        "#The following function call won't work - give it a try!  \n",
        "#average(10, 11, 12)"
      ],
      "execution_count": 32,
      "outputs": []
    },
    {
      "cell_type": "markdown",
      "metadata": {
        "id": "YEL2PMfU4GLX"
      },
      "source": [
        "We have only defined the average function to take two arguments, but clearly we would like to be able to extend this function to an unknown number of arguments. "
      ]
    },
    {
      "cell_type": "code",
      "metadata": {
        "id": "6R2yih264GLY",
        "colab": {
          "base_uri": "https://localhost:8080/"
        },
        "outputId": "3cd30f8c-11d4-4e16-95a2-5a4bf8633c0e"
      },
      "source": [
        "def average_general(*args):\n",
        "    \"\"\"This is a more general version of the average function which will take the average of any number of arguments\"\"\"\n",
        "    summation = 0\n",
        "    num = 0\n",
        "    for a in args:\n",
        "        summation += a\n",
        "        num += 1\n",
        "    return summation/num\n",
        "\n",
        "print(average_general(10,11,12, 13))\n"
      ],
      "execution_count": 33,
      "outputs": [
        {
          "output_type": "stream",
          "text": [
            "11.5\n"
          ],
          "name": "stdout"
        }
      ]
    },
    {
      "cell_type": "markdown",
      "metadata": {
        "id": "_ZNTmxRr3bvx"
      },
      "source": [
        "\n",
        "---\n",
        "\n"
      ]
    },
    {
      "cell_type": "markdown",
      "metadata": {
        "id": "wJPgG6153iJo"
      },
      "source": [
        "## Packages"
      ]
    },
    {
      "cell_type": "markdown",
      "metadata": {
        "id": "V8q9t4b74GHb"
      },
      "source": [
        "The Python packages `pandas`, `numpy` and `matplotlib` are very useful data science utilities. Many programs will start by importing these packages. "
      ]
    },
    {
      "cell_type": "code",
      "metadata": {
        "collapsed": true,
        "id": "HhFOWEZW4GHc"
      },
      "source": [
        "import pandas as pd\n",
        "import numpy as np\n",
        "import matplotlib.pyplot as plt\n",
        "%matplotlib inline"
      ],
      "execution_count": 34,
      "outputs": []
    },
    {
      "cell_type": "markdown",
      "metadata": {
        "id": "r9HxVyje4GHl"
      },
      "source": [
        "### An Introduction to NumPy"
      ]
    },
    {
      "cell_type": "markdown",
      "metadata": {
        "id": "CBUhLX4v4GHn"
      },
      "source": [
        "**NumPy**, short for Numerical Python, is a Python package that provides a set of capabilities to store and operate on dense data. NumPy arrays are similar to a Python list, but provides much more efficient storage and data operations as the size of the data grows. \n",
        "\n",
        "The primary data structure in NumPy is the *multidimensional array*, a table of elements, all of hte same type, indexed by a tuple of non-negative integers. "
      ]
    },
    {
      "cell_type": "code",
      "metadata": {
        "collapsed": true,
        "id": "2dCKkOjS4GHn",
        "colab": {
          "base_uri": "https://localhost:8080/"
        },
        "outputId": "7d82fa44-53e0-492b-e533-60a489ce0428"
      },
      "source": [
        "#this is a code cell. Commands entered into a code cell will be executed by the interpreter. \n",
        "x = np.random.normal(size=500)   # generate a numpy array of normally distributed random values\n",
        "\n",
        "print(type(x))"
      ],
      "execution_count": 35,
      "outputs": [
        {
          "output_type": "stream",
          "text": [
            "<class 'numpy.ndarray'>\n"
          ],
          "name": "stdout"
        }
      ]
    },
    {
      "cell_type": "markdown",
      "metadata": {
        "id": "ezvHUtUl4GHt"
      },
      "source": [
        "In a `numpy` array, you can access individual entries or a range of entries"
      ]
    },
    {
      "cell_type": "code",
      "metadata": {
        "id": "LDGoq0Zk4GHu",
        "colab": {
          "base_uri": "https://localhost:8080/"
        },
        "outputId": "f936faf4-3679-43e1-d6a6-2cec65645b78"
      },
      "source": [
        "x[0:5]"
      ],
      "execution_count": 36,
      "outputs": [
        {
          "output_type": "execute_result",
          "data": {
            "text/plain": [
              "array([-0.41649049, -1.8431384 , -1.05115007, -0.76898026,  2.39631553])"
            ]
          },
          "metadata": {
            "tags": []
          },
          "execution_count": 36
        }
      ]
    },
    {
      "cell_type": "code",
      "metadata": {
        "scrolled": false,
        "id": "-_KS90-L4GHz",
        "colab": {
          "base_uri": "https://localhost:8080/",
          "height": 265
        },
        "outputId": "52c8f153-c18d-41ec-cf23-4727db13854c"
      },
      "source": [
        "plt.hist(x)\n",
        "plt.show()"
      ],
      "execution_count": 37,
      "outputs": [
        {
          "output_type": "display_data",
          "data": {
            "image/png": "[encoded data removed]",
            "text/plain": [
              "<Figure size 432x288 with 1 Axes>"
            ]
          },
          "metadata": {
            "tags": [],
            "needs_background": "light"
          }
        }
      ]
    },
    {
      "cell_type": "markdown",
      "metadata": {
        "id": "tKFwz4OV4GH6"
      },
      "source": [
        "You can also creat random matrices of different sizes:"
      ]
    },
    {
      "cell_type": "code",
      "metadata": {
        "id": "L3hBa2rE4GH8",
        "colab": {
          "base_uri": "https://localhost:8080/"
        },
        "outputId": "370b208c-40da-4dbc-c706-18848e85fc8a"
      },
      "source": [
        "x2 = np.random.randint(10, size = (4,6))\n",
        "print(x2)\n",
        "print(\"Number of Dimenstions: \", x2.ndim)\n",
        "print(\"Shape: \", x2.shape)"
      ],
      "execution_count": 38,
      "outputs": [
        {
          "output_type": "stream",
          "text": [
            "[[8 8 1 0 9 7]\n",
            " [7 9 0 9 3 1]\n",
            " [4 0 6 9 7 0]\n",
            " [5 9 2 7 9 9]]\n",
            "Number of Dimenstions:  2\n",
            "Shape:  (4, 6)\n"
          ],
          "name": "stdout"
        }
      ]
    },
    {
      "cell_type": "markdown",
      "metadata": {
        "id": "Wjd2qAVy4GIA"
      },
      "source": [
        "You can access parts of the matrix using the slice notation (:)"
      ]
    },
    {
      "cell_type": "code",
      "metadata": {
        "id": "shwCaKyU4GIB",
        "colab": {
          "base_uri": "https://localhost:8080/"
        },
        "outputId": "5fc1eacf-e936-46ee-c632-0098dffb50a8"
      },
      "source": [
        "print(\"The first two rows of x2: \")\n",
        "print(x2[:2])\n",
        "print(\"The first three columns of x2:\")\n",
        "print(x2[:, :3])"
      ],
      "execution_count": 39,
      "outputs": [
        {
          "output_type": "stream",
          "text": [
            "The first two rows of x2: \n",
            "[[8 8 1 0 9 7]\n",
            " [7 9 0 9 3 1]]\n",
            "The first three columns of x2:\n",
            "[[8 8 1]\n",
            " [7 9 0]\n",
            " [4 0 6]\n",
            " [5 9 2]]\n"
          ],
          "name": "stdout"
        }
      ]
    },
    {
      "cell_type": "code",
      "metadata": {
        "colab": {
          "base_uri": "https://localhost:8080/"
        },
        "id": "-wGNsLn64c20",
        "outputId": "3d881b12-0779-4204-ebe6-1e098b7a8445"
      },
      "source": [
        "a = np.arange(15).reshape(3,5)\n",
        "print(a)"
      ],
      "execution_count": 40,
      "outputs": [
        {
          "output_type": "stream",
          "text": [
            "[[ 0  1  2  3  4]\n",
            " [ 5  6  7  8  9]\n",
            " [10 11 12 13 14]]\n"
          ],
          "name": "stdout"
        }
      ]
    },
    {
      "cell_type": "markdown",
      "metadata": {
        "id": "Xd2Xp37e4ozI"
      },
      "source": [
        "You can operate on arrays using broadcasting - for example, if you wanted to multiply each element of the array by 2, there is no need to create nested loops"
      ]
    },
    {
      "cell_type": "code",
      "metadata": {
        "colab": {
          "base_uri": "https://localhost:8080/"
        },
        "id": "3EdmL6TZ4nhV",
        "outputId": "8e51927e-3818-453a-e8c8-5734b2867beb"
      },
      "source": [
        "print(a*2)"
      ],
      "execution_count": 41,
      "outputs": [
        {
          "output_type": "stream",
          "text": [
            "[[ 0  2  4  6  8]\n",
            " [10 12 14 16 18]\n",
            " [20 22 24 26 28]]\n"
          ],
          "name": "stdout"
        }
      ]
    },
    {
      "cell_type": "markdown",
      "metadata": {
        "id": "S3-5NJHn5APy"
      },
      "source": [
        "One of the most common uses of NumPy is for linear algebra operations. Lets create a new matrix $b$ and perform matrix multiplication of $a$ and $b$:"
      ]
    },
    {
      "cell_type": "code",
      "metadata": {
        "colab": {
          "base_uri": "https://localhost:8080/"
        },
        "id": "PSw2U30l6Zko",
        "outputId": "90d280cc-65f3-4a4c-9eb1-00c86c8b9c33"
      },
      "source": [
        "b = np.arange(20).reshape(5, 4)\n",
        "print(b)"
      ],
      "execution_count": 42,
      "outputs": [
        {
          "output_type": "stream",
          "text": [
            "[[ 0  1  2  3]\n",
            " [ 4  5  6  7]\n",
            " [ 8  9 10 11]\n",
            " [12 13 14 15]\n",
            " [16 17 18 19]]\n"
          ],
          "name": "stdout"
        }
      ]
    },
    {
      "cell_type": "code",
      "metadata": {
        "colab": {
          "base_uri": "https://localhost:8080/"
        },
        "id": "XZrFLj4_6hQP",
        "outputId": "ccedfeb5-7ffb-47e1-b929-2d9385d78e4c"
      },
      "source": [
        "print(a.dot(b))"
      ],
      "execution_count": 43,
      "outputs": [
        {
          "output_type": "stream",
          "text": [
            "[[120 130 140 150]\n",
            " [320 355 390 425]\n",
            " [520 580 640 700]]\n"
          ],
          "name": "stdout"
        }
      ]
    },
    {
      "cell_type": "markdown",
      "metadata": {
        "id": "mBgjyJA-4GIH"
      },
      "source": [
        "#### Vectorizing versus Looping"
      ]
    },
    {
      "cell_type": "markdown",
      "metadata": {
        "id": "MLyZyGN24GIJ"
      },
      "source": [
        "Looping in Python is extremely slow. The Pythonic (preferred) approach is to used **vectorized operations**, which apply the function to the entire array. In the following code, we use the Python *magic* command %timeit, which measures the time to execute a single statement by using a repeated execution. \n",
        "\n",
        "It runs the code for *n* number of loops *r* times, and returns the best average of the *r* runs. "
      ]
    },
    {
      "cell_type": "code",
      "metadata": {
        "id": "mh_7EHBu4GIK",
        "colab": {
          "base_uri": "https://localhost:8080/"
        },
        "outputId": "c89fc8b7-87a1-4e7f-acbf-3360529dbed4"
      },
      "source": [
        "#addition of two arrays using loops\n",
        "\n",
        "a = np.random.rand(1000000)\n",
        "b = np.random.rand(1000000)\n",
        "c = np.zeros(1000000)\n",
        "\n",
        "def compute_sum():\n",
        "    for i in range(1000000):\n",
        "        c[i] = a[i] + b[i]\n",
        "    \n",
        "%timeit -n 3 -r 5 compute_sum()\n",
        "\n",
        "#vectorized addition of the same two arrays\n",
        "def compute_sum2():\n",
        "    c = a + b\n",
        "\n",
        "%timeit -n 3 -r 5 compute_sum2()"
      ],
      "execution_count": 44,
      "outputs": [
        {
          "output_type": "stream",
          "text": [
            "3 loops, best of 5: 493 ms per loop\n",
            "3 loops, best of 5: 1.64 ms per loop\n"
          ],
          "name": "stdout"
        }
      ]
    },
    {
      "cell_type": "code",
      "metadata": {
        "collapsed": true,
        "id": "P3n48TgB4GIP"
      },
      "source": [
        "#Use this command if you want to get additional information on the timeit function\n",
        "%timeit?"
      ],
      "execution_count": 45,
      "outputs": []
    },
    {
      "cell_type": "markdown",
      "metadata": {
        "id": "MH65zVDk4GIX"
      },
      "source": [
        "### The Pandas Package\n",
        "\n",
        "The Pandas package provides three fundamental data structures: `Series`, `DataFrame`, `Index`. The Series and DataFrame data structures can be thought of as enhanced versions of the NumPy array. \n",
        "\n",
        "\n"
      ]
    },
    {
      "cell_type": "markdown",
      "metadata": {
        "id": "-vB9Sp7UVHVC"
      },
      "source": [
        "####Series"
      ]
    },
    {
      "cell_type": "code",
      "metadata": {
        "id": "YG7U35g84GIb"
      },
      "source": [
        "countries = pd.Series([\"China\",\"India\",\"USA\",\"Indonesia\",\"Pakistan\",\"Brazil\",\"Nigeria\",\"Bangladesh\",\"Russia\"])\n",
        "\n",
        "pop2019 = pd.Series([1433783686, 1366417754, 329064917, 270625568, 216565318, 211049527, 200963599, 163046161, 145872256], index = countries)\n",
        "pop2018 = pd.Series([1427647786, 1352642280, 327096265, 267670543, 212228286, 209469323, 195874683, 161376708, 145734038 ], index = countries)\n"
      ],
      "execution_count": 46,
      "outputs": []
    },
    {
      "cell_type": "code",
      "metadata": {
        "id": "S6XUOOQI4GIh",
        "colab": {
          "base_uri": "https://localhost:8080/"
        },
        "outputId": "d788fb10-4783-4980-e8d5-6fbe19e4784b"
      },
      "source": [
        "print(countries)"
      ],
      "execution_count": 47,
      "outputs": [
        {
          "output_type": "stream",
          "text": [
            "0         China\n",
            "1         India\n",
            "2           USA\n",
            "3     Indonesia\n",
            "4      Pakistan\n",
            "5        Brazil\n",
            "6       Nigeria\n",
            "7    Bangladesh\n",
            "8        Russia\n",
            "dtype: object\n"
          ],
          "name": "stdout"
        }
      ]
    },
    {
      "cell_type": "code",
      "metadata": {
        "id": "nxcq5cy_4GIp",
        "colab": {
          "base_uri": "https://localhost:8080/"
        },
        "outputId": "b40118ac-2ec8-468d-816b-0d4600dded06"
      },
      "source": [
        "print(pop2019)"
      ],
      "execution_count": 48,
      "outputs": [
        {
          "output_type": "stream",
          "text": [
            "China         1433783686\n",
            "India         1366417754\n",
            "USA            329064917\n",
            "Indonesia      270625568\n",
            "Pakistan       216565318\n",
            "Brazil         211049527\n",
            "Nigeria        200963599\n",
            "Bangladesh     163046161\n",
            "Russia         145872256\n",
            "dtype: int64\n"
          ],
          "name": "stdout"
        }
      ]
    },
    {
      "cell_type": "markdown",
      "metadata": {
        "id": "9iyhn_5Q4GIv"
      },
      "source": [
        "You can access any element of the Series by referring to the key:"
      ]
    },
    {
      "cell_type": "code",
      "metadata": {
        "id": "Z9PdTqHU4GIw",
        "colab": {
          "base_uri": "https://localhost:8080/"
        },
        "outputId": "9470911d-4762-447d-e8d7-752a78c1e76b"
      },
      "source": [
        "print(\"The population of the United States in 2019 is: \", pop2019['USA'])"
      ],
      "execution_count": 49,
      "outputs": [
        {
          "output_type": "stream",
          "text": [
            "The population of the United States in 2019 is:  329064917\n"
          ],
          "name": "stdout"
        }
      ]
    },
    {
      "cell_type": "markdown",
      "metadata": {
        "id": "flL7EHjL4GI2"
      },
      "source": [
        "If you want to access only the values of the `Series`, you can access the `values` attribute of the `Series`:"
      ]
    },
    {
      "cell_type": "code",
      "metadata": {
        "id": "KXiBZcg54GI3",
        "colab": {
          "base_uri": "https://localhost:8080/"
        },
        "outputId": "06e33cc0-f88f-4504-8baf-080c767f4c3f"
      },
      "source": [
        "pop2019.values"
      ],
      "execution_count": 50,
      "outputs": [
        {
          "output_type": "execute_result",
          "data": {
            "text/plain": [
              "array([1433783686, 1366417754,  329064917,  270625568,  216565318,\n",
              "        211049527,  200963599,  163046161,  145872256])"
            ]
          },
          "metadata": {
            "tags": []
          },
          "execution_count": 50
        }
      ]
    },
    {
      "cell_type": "markdown",
      "metadata": {
        "id": "VKIEyK2X4GI9"
      },
      "source": [
        "#### Data Frame\n",
        "\n",
        "`DataFrame` is a 2-dimensional labeled data structure with columns of potentially different types. You can think of it like a spreadsheet or SQL table. Another way to think of a `DataFrame` is as a two-dimensional array with flexible row indices and column names. \n",
        "\n",
        "There are many different ways to build a `DataFrame`.  One way is to use a dictionary to construct a single two-dimensional object: "
      ]
    },
    {
      "cell_type": "code",
      "metadata": {
        "collapsed": true,
        "id": "Bf4fh1j-4GI-"
      },
      "source": [
        "population = pd.DataFrame({'population2018': pop2018, 'population2019': pop2019})"
      ],
      "execution_count": 51,
      "outputs": []
    },
    {
      "cell_type": "code",
      "metadata": {
        "id": "gSOsq_QQ4GJD",
        "colab": {
          "base_uri": "https://localhost:8080/",
          "height": 0
        },
        "outputId": "00eccff7-25f4-4528-a7b8-5b10692b577a"
      },
      "source": [
        "population.head()"
      ],
      "execution_count": 52,
      "outputs": [
        {
          "output_type": "execute_result",
          "data": {
            "text/html": [
              "<div>\n",
              "<style scoped>\n",
              "    .dataframe tbody tr th:only-of-type {\n",
              "        vertical-align: middle;\n",
              "    }\n",
              "\n",
              "    .dataframe tbody tr th {\n",
              "        vertical-align: top;\n",
              "    }\n",
              "\n",
              "    .dataframe thead th {\n",
              "        text-align: right;\n",
              "    }\n",
              "</style>\n",
              "<table border=\"1\" class=\"dataframe\">\n",
              "  <thead>\n",
              "    <tr style=\"text-align: right;\">\n",
              "      <th></th>\n",
              "      <th>population2018</th>\n",
              "      <th>population2019</th>\n",
              "    </tr>\n",
              "  </thead>\n",
              "  <tbody>\n",
              "    <tr>\n",
              "      <th>China</th>\n",
              "      <td>1427647786</td>\n",
              "      <td>1433783686</td>\n",
              "    </tr>\n",
              "    <tr>\n",
              "      <th>India</th>\n",
              "      <td>1352642280</td>\n",
              "      <td>1366417754</td>\n",
              "    </tr>\n",
              "    <tr>\n",
              "      <th>USA</th>\n",
              "      <td>327096265</td>\n",
              "      <td>329064917</td>\n",
              "    </tr>\n",
              "    <tr>\n",
              "      <th>Indonesia</th>\n",
              "      <td>267670543</td>\n",
              "      <td>270625568</td>\n",
              "    </tr>\n",
              "    <tr>\n",
              "      <th>Pakistan</th>\n",
              "      <td>212228286</td>\n",
              "      <td>216565318</td>\n",
              "    </tr>\n",
              "  </tbody>\n",
              "</table>\n",
              "</div>"
            ],
            "text/plain": [
              "           population2018  population2019\n",
              "China          1427647786      1433783686\n",
              "India          1352642280      1366417754\n",
              "USA             327096265       329064917\n",
              "Indonesia       267670543       270625568\n",
              "Pakistan        212228286       216565318"
            ]
          },
          "metadata": {
            "tags": []
          },
          "execution_count": 52
        }
      ]
    },
    {
      "cell_type": "markdown",
      "metadata": {
        "id": "ktn7fCy94GJK"
      },
      "source": [
        "You can access the column names and index values by accessing the following attributes of the `DataFrame`:"
      ]
    },
    {
      "cell_type": "code",
      "metadata": {
        "id": "3rtAm7_E4GJM",
        "colab": {
          "base_uri": "https://localhost:8080/"
        },
        "outputId": "f4702783-7e5e-40fa-be5d-50439e6d983d"
      },
      "source": [
        "population.columns"
      ],
      "execution_count": 53,
      "outputs": [
        {
          "output_type": "execute_result",
          "data": {
            "text/plain": [
              "Index(['population2018', 'population2019'], dtype='object')"
            ]
          },
          "metadata": {
            "tags": []
          },
          "execution_count": 53
        }
      ]
    },
    {
      "cell_type": "code",
      "metadata": {
        "id": "bnwU9rHL4GJS",
        "colab": {
          "base_uri": "https://localhost:8080/"
        },
        "outputId": "34ca0606-1894-49d0-8553-3a42c9b4f17a"
      },
      "source": [
        "population.index"
      ],
      "execution_count": 54,
      "outputs": [
        {
          "output_type": "execute_result",
          "data": {
            "text/plain": [
              "Index(['China', 'India', 'USA', 'Indonesia', 'Pakistan', 'Brazil', 'Nigeria',\n",
              "       'Bangladesh', 'Russia'],\n",
              "      dtype='object')"
            ]
          },
          "metadata": {
            "tags": []
          },
          "execution_count": 54
        }
      ]
    },
    {
      "cell_type": "markdown",
      "metadata": {
        "id": "nc09kuTG4GJX"
      },
      "source": [
        "#### Accessing entries in a Data Frame\n",
        "\n",
        "There are a few ways to access the rows of a `DataFrame`. First, the `iloc` indexer uses the implicit numeric style index. the `loc` indexer will use the explicit index. For example, both of the below commands will return the values for population values for India:"
      ]
    },
    {
      "cell_type": "code",
      "metadata": {
        "id": "82FUT5OS4GJY",
        "colab": {
          "base_uri": "https://localhost:8080/"
        },
        "outputId": "7fb8180f-7349-4365-d4f6-567783cd54e9"
      },
      "source": [
        "population.iloc[1]"
      ],
      "execution_count": 55,
      "outputs": [
        {
          "output_type": "execute_result",
          "data": {
            "text/plain": [
              "population2018    1352642280\n",
              "population2019    1366417754\n",
              "Name: India, dtype: int64"
            ]
          },
          "metadata": {
            "tags": []
          },
          "execution_count": 55
        }
      ]
    },
    {
      "cell_type": "code",
      "metadata": {
        "id": "hEUAICVB4GJg",
        "colab": {
          "base_uri": "https://localhost:8080/"
        },
        "outputId": "8ea2b8ed-7c52-47c8-e6ee-4081154d8da6"
      },
      "source": [
        "population.loc['India']"
      ],
      "execution_count": 56,
      "outputs": [
        {
          "output_type": "execute_result",
          "data": {
            "text/plain": [
              "population2018    1352642280\n",
              "population2019    1366417754\n",
              "Name: India, dtype: int64"
            ]
          },
          "metadata": {
            "tags": []
          },
          "execution_count": 56
        }
      ]
    },
    {
      "cell_type": "markdown",
      "metadata": {
        "id": "GJa7YOdM4GJs"
      },
      "source": [
        "You can also access a range of rows as follows:"
      ]
    },
    {
      "cell_type": "code",
      "metadata": {
        "id": "L1iNTgpM4GJt",
        "colab": {
          "base_uri": "https://localhost:8080/",
          "height": 0
        },
        "outputId": "65468b48-b801-4a43-ff73-93b7f9b996ec"
      },
      "source": [
        "population.iloc[1:3]"
      ],
      "execution_count": 57,
      "outputs": [
        {
          "output_type": "execute_result",
          "data": {
            "text/html": [
              "<div>\n",
              "<style scoped>\n",
              "    .dataframe tbody tr th:only-of-type {\n",
              "        vertical-align: middle;\n",
              "    }\n",
              "\n",
              "    .dataframe tbody tr th {\n",
              "        vertical-align: top;\n",
              "    }\n",
              "\n",
              "    .dataframe thead th {\n",
              "        text-align: right;\n",
              "    }\n",
              "</style>\n",
              "<table border=\"1\" class=\"dataframe\">\n",
              "  <thead>\n",
              "    <tr style=\"text-align: right;\">\n",
              "      <th></th>\n",
              "      <th>population2018</th>\n",
              "      <th>population2019</th>\n",
              "    </tr>\n",
              "  </thead>\n",
              "  <tbody>\n",
              "    <tr>\n",
              "      <th>India</th>\n",
              "      <td>1352642280</td>\n",
              "      <td>1366417754</td>\n",
              "    </tr>\n",
              "    <tr>\n",
              "      <th>USA</th>\n",
              "      <td>327096265</td>\n",
              "      <td>329064917</td>\n",
              "    </tr>\n",
              "  </tbody>\n",
              "</table>\n",
              "</div>"
            ],
            "text/plain": [
              "       population2018  population2019\n",
              "India      1352642280      1366417754\n",
              "USA         327096265       329064917"
            ]
          },
          "metadata": {
            "tags": []
          },
          "execution_count": 57
        }
      ]
    },
    {
      "cell_type": "code",
      "metadata": {
        "id": "EfieatX14GJz",
        "colab": {
          "base_uri": "https://localhost:8080/",
          "height": 0
        },
        "outputId": "375837af-de48-4bc6-aad7-44c5ea5031b7"
      },
      "source": [
        "population.loc['India':'Brazil']"
      ],
      "execution_count": 58,
      "outputs": [
        {
          "output_type": "execute_result",
          "data": {
            "text/html": [
              "<div>\n",
              "<style scoped>\n",
              "    .dataframe tbody tr th:only-of-type {\n",
              "        vertical-align: middle;\n",
              "    }\n",
              "\n",
              "    .dataframe tbody tr th {\n",
              "        vertical-align: top;\n",
              "    }\n",
              "\n",
              "    .dataframe thead th {\n",
              "        text-align: right;\n",
              "    }\n",
              "</style>\n",
              "<table border=\"1\" class=\"dataframe\">\n",
              "  <thead>\n",
              "    <tr style=\"text-align: right;\">\n",
              "      <th></th>\n",
              "      <th>population2018</th>\n",
              "      <th>population2019</th>\n",
              "    </tr>\n",
              "  </thead>\n",
              "  <tbody>\n",
              "    <tr>\n",
              "      <th>India</th>\n",
              "      <td>1352642280</td>\n",
              "      <td>1366417754</td>\n",
              "    </tr>\n",
              "    <tr>\n",
              "      <th>USA</th>\n",
              "      <td>327096265</td>\n",
              "      <td>329064917</td>\n",
              "    </tr>\n",
              "    <tr>\n",
              "      <th>Indonesia</th>\n",
              "      <td>267670543</td>\n",
              "      <td>270625568</td>\n",
              "    </tr>\n",
              "    <tr>\n",
              "      <th>Pakistan</th>\n",
              "      <td>212228286</td>\n",
              "      <td>216565318</td>\n",
              "    </tr>\n",
              "    <tr>\n",
              "      <th>Brazil</th>\n",
              "      <td>209469323</td>\n",
              "      <td>211049527</td>\n",
              "    </tr>\n",
              "  </tbody>\n",
              "</table>\n",
              "</div>"
            ],
            "text/plain": [
              "           population2018  population2019\n",
              "India          1352642280      1366417754\n",
              "USA             327096265       329064917\n",
              "Indonesia       267670543       270625568\n",
              "Pakistan        212228286       216565318\n",
              "Brazil          209469323       211049527"
            ]
          },
          "metadata": {
            "tags": []
          },
          "execution_count": 58
        }
      ]
    },
    {
      "cell_type": "markdown",
      "metadata": {
        "id": "3PzRLltI4GJ7"
      },
      "source": [
        "You can slice both rows and columns"
      ]
    },
    {
      "cell_type": "code",
      "metadata": {
        "id": "nZr67pMl4GJ8",
        "colab": {
          "base_uri": "https://localhost:8080/",
          "height": 0
        },
        "outputId": "6e5112b3-2f54-4303-db83-dd2566e0bfce"
      },
      "source": [
        "population.loc['India':'Pakistan', :'population2018']"
      ],
      "execution_count": 59,
      "outputs": [
        {
          "output_type": "execute_result",
          "data": {
            "text/html": [
              "<div>\n",
              "<style scoped>\n",
              "    .dataframe tbody tr th:only-of-type {\n",
              "        vertical-align: middle;\n",
              "    }\n",
              "\n",
              "    .dataframe tbody tr th {\n",
              "        vertical-align: top;\n",
              "    }\n",
              "\n",
              "    .dataframe thead th {\n",
              "        text-align: right;\n",
              "    }\n",
              "</style>\n",
              "<table border=\"1\" class=\"dataframe\">\n",
              "  <thead>\n",
              "    <tr style=\"text-align: right;\">\n",
              "      <th></th>\n",
              "      <th>population2018</th>\n",
              "    </tr>\n",
              "  </thead>\n",
              "  <tbody>\n",
              "    <tr>\n",
              "      <th>India</th>\n",
              "      <td>1352642280</td>\n",
              "    </tr>\n",
              "    <tr>\n",
              "      <th>USA</th>\n",
              "      <td>327096265</td>\n",
              "    </tr>\n",
              "    <tr>\n",
              "      <th>Indonesia</th>\n",
              "      <td>267670543</td>\n",
              "    </tr>\n",
              "    <tr>\n",
              "      <th>Pakistan</th>\n",
              "      <td>212228286</td>\n",
              "    </tr>\n",
              "  </tbody>\n",
              "</table>\n",
              "</div>"
            ],
            "text/plain": [
              "           population2018\n",
              "India          1352642280\n",
              "USA             327096265\n",
              "Indonesia       267670543\n",
              "Pakistan        212228286"
            ]
          },
          "metadata": {
            "tags": []
          },
          "execution_count": 59
        }
      ]
    },
    {
      "cell_type": "code",
      "metadata": {
        "id": "jiCNVLVJ4GKD",
        "colab": {
          "base_uri": "https://localhost:8080/",
          "height": 0
        },
        "outputId": "af6c5d75-f486-4bc1-a634-cc73a4e04027"
      },
      "source": [
        "population.iloc[:2, 1:]"
      ],
      "execution_count": 60,
      "outputs": [
        {
          "output_type": "execute_result",
          "data": {
            "text/html": [
              "<div>\n",
              "<style scoped>\n",
              "    .dataframe tbody tr th:only-of-type {\n",
              "        vertical-align: middle;\n",
              "    }\n",
              "\n",
              "    .dataframe tbody tr th {\n",
              "        vertical-align: top;\n",
              "    }\n",
              "\n",
              "    .dataframe thead th {\n",
              "        text-align: right;\n",
              "    }\n",
              "</style>\n",
              "<table border=\"1\" class=\"dataframe\">\n",
              "  <thead>\n",
              "    <tr style=\"text-align: right;\">\n",
              "      <th></th>\n",
              "      <th>population2019</th>\n",
              "    </tr>\n",
              "  </thead>\n",
              "  <tbody>\n",
              "    <tr>\n",
              "      <th>China</th>\n",
              "      <td>1433783686</td>\n",
              "    </tr>\n",
              "    <tr>\n",
              "      <th>India</th>\n",
              "      <td>1366417754</td>\n",
              "    </tr>\n",
              "  </tbody>\n",
              "</table>\n",
              "</div>"
            ],
            "text/plain": [
              "       population2019\n",
              "China      1433783686\n",
              "India      1366417754"
            ]
          },
          "metadata": {
            "tags": []
          },
          "execution_count": 60
        }
      ]
    },
    {
      "cell_type": "code",
      "metadata": {
        "id": "3t1HlokQ4GKH",
        "colab": {
          "base_uri": "https://localhost:8080/",
          "height": 0
        },
        "outputId": "9eba94bc-aeb8-4557-f038-b27b2870a570"
      },
      "source": [
        "population.describe()"
      ],
      "execution_count": 61,
      "outputs": [
        {
          "output_type": "execute_result",
          "data": {
            "text/html": [
              "<div>\n",
              "<style scoped>\n",
              "    .dataframe tbody tr th:only-of-type {\n",
              "        vertical-align: middle;\n",
              "    }\n",
              "\n",
              "    .dataframe tbody tr th {\n",
              "        vertical-align: top;\n",
              "    }\n",
              "\n",
              "    .dataframe thead th {\n",
              "        text-align: right;\n",
              "    }\n",
              "</style>\n",
              "<table border=\"1\" class=\"dataframe\">\n",
              "  <thead>\n",
              "    <tr style=\"text-align: right;\">\n",
              "      <th></th>\n",
              "      <th>population2018</th>\n",
              "      <th>population2019</th>\n",
              "    </tr>\n",
              "  </thead>\n",
              "  <tbody>\n",
              "    <tr>\n",
              "      <th>count</th>\n",
              "      <td>9.000000e+00</td>\n",
              "      <td>9.000000e+00</td>\n",
              "    </tr>\n",
              "    <tr>\n",
              "      <th>mean</th>\n",
              "      <td>4.777489e+08</td>\n",
              "      <td>4.819321e+08</td>\n",
              "    </tr>\n",
              "    <tr>\n",
              "      <th>std</th>\n",
              "      <td>5.204360e+08</td>\n",
              "      <td>5.236554e+08</td>\n",
              "    </tr>\n",
              "    <tr>\n",
              "      <th>min</th>\n",
              "      <td>1.457340e+08</td>\n",
              "      <td>1.458723e+08</td>\n",
              "    </tr>\n",
              "    <tr>\n",
              "      <th>25%</th>\n",
              "      <td>1.958747e+08</td>\n",
              "      <td>2.009636e+08</td>\n",
              "    </tr>\n",
              "    <tr>\n",
              "      <th>50%</th>\n",
              "      <td>2.122283e+08</td>\n",
              "      <td>2.165653e+08</td>\n",
              "    </tr>\n",
              "    <tr>\n",
              "      <th>75%</th>\n",
              "      <td>3.270963e+08</td>\n",
              "      <td>3.290649e+08</td>\n",
              "    </tr>\n",
              "    <tr>\n",
              "      <th>max</th>\n",
              "      <td>1.427648e+09</td>\n",
              "      <td>1.433784e+09</td>\n",
              "    </tr>\n",
              "  </tbody>\n",
              "</table>\n",
              "</div>"
            ],
            "text/plain": [
              "       population2018  population2019\n",
              "count    9.000000e+00    9.000000e+00\n",
              "mean     4.777489e+08    4.819321e+08\n",
              "std      5.204360e+08    5.236554e+08\n",
              "min      1.457340e+08    1.458723e+08\n",
              "25%      1.958747e+08    2.009636e+08\n",
              "50%      2.122283e+08    2.165653e+08\n",
              "75%      3.270963e+08    3.290649e+08\n",
              "max      1.427648e+09    1.433784e+09"
            ]
          },
          "metadata": {
            "tags": []
          },
          "execution_count": 61
        }
      ]
    },
    {
      "cell_type": "code",
      "metadata": {
        "id": "FUVK7TK54GKN",
        "colab": {
          "base_uri": "https://localhost:8080/"
        },
        "outputId": "1d1c4975-2287-4b15-e240-ba5d9bb94ad3"
      },
      "source": [
        "population.info()"
      ],
      "execution_count": 62,
      "outputs": [
        {
          "output_type": "stream",
          "text": [
            "<class 'pandas.core.frame.DataFrame'>\n",
            "Index: 9 entries, China to Russia\n",
            "Data columns (total 2 columns):\n",
            " #   Column          Non-Null Count  Dtype\n",
            "---  ------          --------------  -----\n",
            " 0   population2018  9 non-null      int64\n",
            " 1   population2019  9 non-null      int64\n",
            "dtypes: int64(2)\n",
            "memory usage: 536.0+ bytes\n"
          ],
          "name": "stdout"
        }
      ]
    },
    {
      "cell_type": "markdown",
      "metadata": {
        "id": "oekeAlKG4GKV"
      },
      "source": [
        "Finally, you can extract observations that meet a specific criteria. For example, suppose we wanted to extract the countries with a population less than 1 Billion. We can first create a boolean mask with the condition that we would like to specify:"
      ]
    },
    {
      "cell_type": "code",
      "metadata": {
        "id": "nVGclx984GKX",
        "colab": {
          "base_uri": "https://localhost:8080/"
        },
        "outputId": "201ca601-aef7-4795-8b3e-88b7b7739474"
      },
      "source": [
        "population['population2019']< 1000000000"
      ],
      "execution_count": 63,
      "outputs": [
        {
          "output_type": "execute_result",
          "data": {
            "text/plain": [
              "China         False\n",
              "India         False\n",
              "USA            True\n",
              "Indonesia      True\n",
              "Pakistan       True\n",
              "Brazil         True\n",
              "Nigeria        True\n",
              "Bangladesh     True\n",
              "Russia         True\n",
              "Name: population2019, dtype: bool"
            ]
          },
          "metadata": {
            "tags": []
          },
          "execution_count": 63
        }
      ]
    },
    {
      "cell_type": "markdown",
      "metadata": {
        "id": "uFaWqcsM4GKd"
      },
      "source": [
        "Next, we can give the boolean mask to the .loc operator to extract the rows of interest:"
      ]
    },
    {
      "cell_type": "code",
      "metadata": {
        "id": "6RsQEVaP4GKe",
        "colab": {
          "base_uri": "https://localhost:8080/",
          "height": 0
        },
        "outputId": "fe1e9f1a-9ff4-4f56-ce8a-4ca3faf0afd6"
      },
      "source": [
        "population.loc[population['population2019']< 1000000000]"
      ],
      "execution_count": 64,
      "outputs": [
        {
          "output_type": "execute_result",
          "data": {
            "text/html": [
              "<div>\n",
              "<style scoped>\n",
              "    .dataframe tbody tr th:only-of-type {\n",
              "        vertical-align: middle;\n",
              "    }\n",
              "\n",
              "    .dataframe tbody tr th {\n",
              "        vertical-align: top;\n",
              "    }\n",
              "\n",
              "    .dataframe thead th {\n",
              "        text-align: right;\n",
              "    }\n",
              "</style>\n",
              "<table border=\"1\" class=\"dataframe\">\n",
              "  <thead>\n",
              "    <tr style=\"text-align: right;\">\n",
              "      <th></th>\n",
              "      <th>population2018</th>\n",
              "      <th>population2019</th>\n",
              "    </tr>\n",
              "  </thead>\n",
              "  <tbody>\n",
              "    <tr>\n",
              "      <th>USA</th>\n",
              "      <td>327096265</td>\n",
              "      <td>329064917</td>\n",
              "    </tr>\n",
              "    <tr>\n",
              "      <th>Indonesia</th>\n",
              "      <td>267670543</td>\n",
              "      <td>270625568</td>\n",
              "    </tr>\n",
              "    <tr>\n",
              "      <th>Pakistan</th>\n",
              "      <td>212228286</td>\n",
              "      <td>216565318</td>\n",
              "    </tr>\n",
              "    <tr>\n",
              "      <th>Brazil</th>\n",
              "      <td>209469323</td>\n",
              "      <td>211049527</td>\n",
              "    </tr>\n",
              "    <tr>\n",
              "      <th>Nigeria</th>\n",
              "      <td>195874683</td>\n",
              "      <td>200963599</td>\n",
              "    </tr>\n",
              "    <tr>\n",
              "      <th>Bangladesh</th>\n",
              "      <td>161376708</td>\n",
              "      <td>163046161</td>\n",
              "    </tr>\n",
              "    <tr>\n",
              "      <th>Russia</th>\n",
              "      <td>145734038</td>\n",
              "      <td>145872256</td>\n",
              "    </tr>\n",
              "  </tbody>\n",
              "</table>\n",
              "</div>"
            ],
            "text/plain": [
              "            population2018  population2019\n",
              "USA              327096265       329064917\n",
              "Indonesia        267670543       270625568\n",
              "Pakistan         212228286       216565318\n",
              "Brazil           209469323       211049527\n",
              "Nigeria          195874683       200963599\n",
              "Bangladesh       161376708       163046161\n",
              "Russia           145734038       145872256"
            ]
          },
          "metadata": {
            "tags": []
          },
          "execution_count": 64
        }
      ]
    },
    {
      "cell_type": "markdown",
      "metadata": {
        "id": "giMBTH-74GKt"
      },
      "source": [
        "New columns can be created from existing colums in the data frame. For example, let's compute the population growth between 2018 and 2019 and label the column 'Growth.' Note that we do not need to create a loop to iterate through the data frame; the computation is automatically vectorized. "
      ]
    },
    {
      "cell_type": "code",
      "metadata": {
        "id": "kik6uSMh4GKv",
        "colab": {
          "base_uri": "https://localhost:8080/",
          "height": 0
        },
        "outputId": "ea2297e8-7c88-42df-e14e-e6c1122de9c0"
      },
      "source": [
        "population['Growth'] = 100* (population['population2019']-population['population2018'])/population['population2018']\n",
        "population"
      ],
      "execution_count": 65,
      "outputs": [
        {
          "output_type": "execute_result",
          "data": {
            "text/html": [
              "<div>\n",
              "<style scoped>\n",
              "    .dataframe tbody tr th:only-of-type {\n",
              "        vertical-align: middle;\n",
              "    }\n",
              "\n",
              "    .dataframe tbody tr th {\n",
              "        vertical-align: top;\n",
              "    }\n",
              "\n",
              "    .dataframe thead th {\n",
              "        text-align: right;\n",
              "    }\n",
              "</style>\n",
              "<table border=\"1\" class=\"dataframe\">\n",
              "  <thead>\n",
              "    <tr style=\"text-align: right;\">\n",
              "      <th></th>\n",
              "      <th>population2018</th>\n",
              "      <th>population2019</th>\n",
              "      <th>Growth</th>\n",
              "    </tr>\n",
              "  </thead>\n",
              "  <tbody>\n",
              "    <tr>\n",
              "      <th>China</th>\n",
              "      <td>1427647786</td>\n",
              "      <td>1433783686</td>\n",
              "      <td>0.429791</td>\n",
              "    </tr>\n",
              "    <tr>\n",
              "      <th>India</th>\n",
              "      <td>1352642280</td>\n",
              "      <td>1366417754</td>\n",
              "      <td>1.018412</td>\n",
              "    </tr>\n",
              "    <tr>\n",
              "      <th>USA</th>\n",
              "      <td>327096265</td>\n",
              "      <td>329064917</td>\n",
              "      <td>0.601857</td>\n",
              "    </tr>\n",
              "    <tr>\n",
              "      <th>Indonesia</th>\n",
              "      <td>267670543</td>\n",
              "      <td>270625568</td>\n",
              "      <td>1.103978</td>\n",
              "    </tr>\n",
              "    <tr>\n",
              "      <th>Pakistan</th>\n",
              "      <td>212228286</td>\n",
              "      <td>216565318</td>\n",
              "      <td>2.043569</td>\n",
              "    </tr>\n",
              "    <tr>\n",
              "      <th>Brazil</th>\n",
              "      <td>209469323</td>\n",
              "      <td>211049527</td>\n",
              "      <td>0.754384</td>\n",
              "    </tr>\n",
              "    <tr>\n",
              "      <th>Nigeria</th>\n",
              "      <td>195874683</td>\n",
              "      <td>200963599</td>\n",
              "      <td>2.598047</td>\n",
              "    </tr>\n",
              "    <tr>\n",
              "      <th>Bangladesh</th>\n",
              "      <td>161376708</td>\n",
              "      <td>163046161</td>\n",
              "      <td>1.034507</td>\n",
              "    </tr>\n",
              "    <tr>\n",
              "      <th>Russia</th>\n",
              "      <td>145734038</td>\n",
              "      <td>145872256</td>\n",
              "      <td>0.094843</td>\n",
              "    </tr>\n",
              "  </tbody>\n",
              "</table>\n",
              "</div>"
            ],
            "text/plain": [
              "            population2018  population2019    Growth\n",
              "China           1427647786      1433783686  0.429791\n",
              "India           1352642280      1366417754  1.018412\n",
              "USA              327096265       329064917  0.601857\n",
              "Indonesia        267670543       270625568  1.103978\n",
              "Pakistan         212228286       216565318  2.043569\n",
              "Brazil           209469323       211049527  0.754384\n",
              "Nigeria          195874683       200963599  2.598047\n",
              "Bangladesh       161376708       163046161  1.034507\n",
              "Russia           145734038       145872256  0.094843"
            ]
          },
          "metadata": {
            "tags": []
          },
          "execution_count": 65
        }
      ]
    },
    {
      "cell_type": "markdown",
      "metadata": {
        "id": "ME3EAvBp4GLh"
      },
      "source": [
        "#### Reading data from a file into a DataFrame\n",
        "\n",
        "You can also import data in a variety of formats from a URL into a pandas data frame.  For example, this code imports the IRIS dataset, stored as a simple CSV file, from the UC Irvine Machine Learning repository, creating a data frame with 5 columns. "
      ]
    },
    {
      "cell_type": "code",
      "metadata": {
        "collapsed": true,
        "id": "jGgApe5Z4GLi"
      },
      "source": [
        "iris = pd.read_csv(\"http://archive.ics.uci.edu/ml/machine-learning-databases/iris/iris.data\", header = None, \n",
        "                   names = ['sepal_length', 'sepal_width', 'petal_length', 'petal_width', 'class'])"
      ],
      "execution_count": 66,
      "outputs": []
    },
    {
      "cell_type": "code",
      "metadata": {
        "colab": {
          "base_uri": "https://localhost:8080/",
          "height": 0
        },
        "id": "v8GCaklZWKBQ",
        "outputId": "d22d9727-df70-47ee-8984-31fd2fa0eb0e"
      },
      "source": [
        "iris.head()"
      ],
      "execution_count": 67,
      "outputs": [
        {
          "output_type": "execute_result",
          "data": {
            "text/html": [
              "<div>\n",
              "<style scoped>\n",
              "    .dataframe tbody tr th:only-of-type {\n",
              "        vertical-align: middle;\n",
              "    }\n",
              "\n",
              "    .dataframe tbody tr th {\n",
              "        vertical-align: top;\n",
              "    }\n",
              "\n",
              "    .dataframe thead th {\n",
              "        text-align: right;\n",
              "    }\n",
              "</style>\n",
              "<table border=\"1\" class=\"dataframe\">\n",
              "  <thead>\n",
              "    <tr style=\"text-align: right;\">\n",
              "      <th></th>\n",
              "      <th>sepal_length</th>\n",
              "      <th>sepal_width</th>\n",
              "      <th>petal_length</th>\n",
              "      <th>petal_width</th>\n",
              "      <th>class</th>\n",
              "    </tr>\n",
              "  </thead>\n",
              "  <tbody>\n",
              "    <tr>\n",
              "      <th>0</th>\n",
              "      <td>5.1</td>\n",
              "      <td>3.5</td>\n",
              "      <td>1.4</td>\n",
              "      <td>0.2</td>\n",
              "      <td>Iris-setosa</td>\n",
              "    </tr>\n",
              "    <tr>\n",
              "      <th>1</th>\n",
              "      <td>4.9</td>\n",
              "      <td>3.0</td>\n",
              "      <td>1.4</td>\n",
              "      <td>0.2</td>\n",
              "      <td>Iris-setosa</td>\n",
              "    </tr>\n",
              "    <tr>\n",
              "      <th>2</th>\n",
              "      <td>4.7</td>\n",
              "      <td>3.2</td>\n",
              "      <td>1.3</td>\n",
              "      <td>0.2</td>\n",
              "      <td>Iris-setosa</td>\n",
              "    </tr>\n",
              "    <tr>\n",
              "      <th>3</th>\n",
              "      <td>4.6</td>\n",
              "      <td>3.1</td>\n",
              "      <td>1.5</td>\n",
              "      <td>0.2</td>\n",
              "      <td>Iris-setosa</td>\n",
              "    </tr>\n",
              "    <tr>\n",
              "      <th>4</th>\n",
              "      <td>5.0</td>\n",
              "      <td>3.6</td>\n",
              "      <td>1.4</td>\n",
              "      <td>0.2</td>\n",
              "      <td>Iris-setosa</td>\n",
              "    </tr>\n",
              "  </tbody>\n",
              "</table>\n",
              "</div>"
            ],
            "text/plain": [
              "   sepal_length  sepal_width  petal_length  petal_width        class\n",
              "0           5.1          3.5           1.4          0.2  Iris-setosa\n",
              "1           4.9          3.0           1.4          0.2  Iris-setosa\n",
              "2           4.7          3.2           1.3          0.2  Iris-setosa\n",
              "3           4.6          3.1           1.5          0.2  Iris-setosa\n",
              "4           5.0          3.6           1.4          0.2  Iris-setosa"
            ]
          },
          "metadata": {
            "tags": []
          },
          "execution_count": 67
        }
      ]
    },
    {
      "cell_type": "code",
      "metadata": {
        "id": "l43KMycS4GLn",
        "colab": {
          "base_uri": "https://localhost:8080/"
        },
        "outputId": "26a4d4c5-fa3f-42c0-a923-8b63bba1c604"
      },
      "source": [
        "iris.info()"
      ],
      "execution_count": 68,
      "outputs": [
        {
          "output_type": "stream",
          "text": [
            "<class 'pandas.core.frame.DataFrame'>\n",
            "RangeIndex: 150 entries, 0 to 149\n",
            "Data columns (total 5 columns):\n",
            " #   Column        Non-Null Count  Dtype  \n",
            "---  ------        --------------  -----  \n",
            " 0   sepal_length  150 non-null    float64\n",
            " 1   sepal_width   150 non-null    float64\n",
            " 2   petal_length  150 non-null    float64\n",
            " 3   petal_width   150 non-null    float64\n",
            " 4   class         150 non-null    object \n",
            "dtypes: float64(4), object(1)\n",
            "memory usage: 6.0+ KB\n"
          ],
          "name": "stdout"
        }
      ]
    },
    {
      "cell_type": "code",
      "metadata": {
        "id": "2Ph7LYIt4GL2",
        "colab": {
          "base_uri": "https://localhost:8080/",
          "height": 0
        },
        "outputId": "330070df-6650-464f-f613-c957cec4d3db"
      },
      "source": [
        "iris.describe()"
      ],
      "execution_count": 69,
      "outputs": [
        {
          "output_type": "execute_result",
          "data": {
            "text/html": [
              "<div>\n",
              "<style scoped>\n",
              "    .dataframe tbody tr th:only-of-type {\n",
              "        vertical-align: middle;\n",
              "    }\n",
              "\n",
              "    .dataframe tbody tr th {\n",
              "        vertical-align: top;\n",
              "    }\n",
              "\n",
              "    .dataframe thead th {\n",
              "        text-align: right;\n",
              "    }\n",
              "</style>\n",
              "<table border=\"1\" class=\"dataframe\">\n",
              "  <thead>\n",
              "    <tr style=\"text-align: right;\">\n",
              "      <th></th>\n",
              "      <th>sepal_length</th>\n",
              "      <th>sepal_width</th>\n",
              "      <th>petal_length</th>\n",
              "      <th>petal_width</th>\n",
              "    </tr>\n",
              "  </thead>\n",
              "  <tbody>\n",
              "    <tr>\n",
              "      <th>count</th>\n",
              "      <td>150.000000</td>\n",
              "      <td>150.000000</td>\n",
              "      <td>150.000000</td>\n",
              "      <td>150.000000</td>\n",
              "    </tr>\n",
              "    <tr>\n",
              "      <th>mean</th>\n",
              "      <td>5.843333</td>\n",
              "      <td>3.054000</td>\n",
              "      <td>3.758667</td>\n",
              "      <td>1.198667</td>\n",
              "    </tr>\n",
              "    <tr>\n",
              "      <th>std</th>\n",
              "      <td>0.828066</td>\n",
              "      <td>0.433594</td>\n",
              "      <td>1.764420</td>\n",
              "      <td>0.763161</td>\n",
              "    </tr>\n",
              "    <tr>\n",
              "      <th>min</th>\n",
              "      <td>4.300000</td>\n",
              "      <td>2.000000</td>\n",
              "      <td>1.000000</td>\n",
              "      <td>0.100000</td>\n",
              "    </tr>\n",
              "    <tr>\n",
              "      <th>25%</th>\n",
              "      <td>5.100000</td>\n",
              "      <td>2.800000</td>\n",
              "      <td>1.600000</td>\n",
              "      <td>0.300000</td>\n",
              "    </tr>\n",
              "    <tr>\n",
              "      <th>50%</th>\n",
              "      <td>5.800000</td>\n",
              "      <td>3.000000</td>\n",
              "      <td>4.350000</td>\n",
              "      <td>1.300000</td>\n",
              "    </tr>\n",
              "    <tr>\n",
              "      <th>75%</th>\n",
              "      <td>6.400000</td>\n",
              "      <td>3.300000</td>\n",
              "      <td>5.100000</td>\n",
              "      <td>1.800000</td>\n",
              "    </tr>\n",
              "    <tr>\n",
              "      <th>max</th>\n",
              "      <td>7.900000</td>\n",
              "      <td>4.400000</td>\n",
              "      <td>6.900000</td>\n",
              "      <td>2.500000</td>\n",
              "    </tr>\n",
              "  </tbody>\n",
              "</table>\n",
              "</div>"
            ],
            "text/plain": [
              "       sepal_length  sepal_width  petal_length  petal_width\n",
              "count    150.000000   150.000000    150.000000   150.000000\n",
              "mean       5.843333     3.054000      3.758667     1.198667\n",
              "std        0.828066     0.433594      1.764420     0.763161\n",
              "min        4.300000     2.000000      1.000000     0.100000\n",
              "25%        5.100000     2.800000      1.600000     0.300000\n",
              "50%        5.800000     3.000000      4.350000     1.300000\n",
              "75%        6.400000     3.300000      5.100000     1.800000\n",
              "max        7.900000     4.400000      6.900000     2.500000"
            ]
          },
          "metadata": {
            "tags": []
          },
          "execution_count": 69
        }
      ]
    },
    {
      "cell_type": "markdown",
      "metadata": {
        "id": "8lGBorsw4GMD"
      },
      "source": [
        "## Some useful tricks and tips"
      ]
    },
    {
      "cell_type": "markdown",
      "metadata": {
        "id": "f5U0-5644GME"
      },
      "source": [
        "There are a few different ways to get information on functions or modules in Python. For example, you can find additional information on the Python `list` data structure:\n",
        "\n",
        "`help(list)`\n",
        "\n",
        "`list?`"
      ]
    },
    {
      "cell_type": "code",
      "metadata": {
        "id": "AIW57zt_4GMF",
        "colab": {
          "base_uri": "https://localhost:8080/"
        },
        "outputId": "18ee0f60-577d-4182-83e4-8d4e36447bed"
      },
      "source": [
        "help(list)"
      ],
      "execution_count": 70,
      "outputs": [
        {
          "output_type": "stream",
          "text": [
            "Help on class list in module builtins:\n",
            "\n",
            "class list(object)\n",
            " |  list(iterable=(), /)\n",
            " |  \n",
            " |  Built-in mutable sequence.\n",
            " |  \n",
            " |  If no argument is given, the constructor creates a new empty list.\n",
            " |  The argument must be an iterable if specified.\n",
            " |  \n",
            " |  Methods defined here:\n",
            " |  \n",
            " |  __add__(self, value, /)\n",
            " |      Return self+value.\n",
            " |  \n",
            " |  __contains__(self, key, /)\n",
            " |      Return key in self.\n",
            " |  \n",
            " |  __delitem__(self, key, /)\n",
            " |      Delete self[key].\n",
            " |  \n",
            " |  __eq__(self, value, /)\n",
            " |      Return self==value.\n",
            " |  \n",
            " |  __ge__(self, value, /)\n",
            " |      Return self>=value.\n",
            " |  \n",
            " |  __getattribute__(self, name, /)\n",
            " |      Return getattr(self, name).\n",
            " |  \n",
            " |  __getitem__(...)\n",
            " |      x.__getitem__(y) <==> x[y]\n",
            " |  \n",
            " |  __gt__(self, value, /)\n",
            " |      Return self>value.\n",
            " |  \n",
            " |  __iadd__(self, value, /)\n",
            " |      Implement self+=value.\n",
            " |  \n",
            " |  __imul__(self, value, /)\n",
            " |      Implement self*=value.\n",
            " |  \n",
            " |  __init__(self, /, *args, **kwargs)\n",
            " |      Initialize self.  See help(type(self)) for accurate signature.\n",
            " |  \n",
            " |  __iter__(self, /)\n",
            " |      Implement iter(self).\n",
            " |  \n",
            " |  __le__(self, value, /)\n",
            " |      Return self<=value.\n",
            " |  \n",
            " |  __len__(self, /)\n",
            " |      Return len(self).\n",
            " |  \n",
            " |  __lt__(self, value, /)\n",
            " |      Return self<value.\n",
            " |  \n",
            " |  __mul__(self, value, /)\n",
            " |      Return self*value.\n",
            " |  \n",
            " |  __ne__(self, value, /)\n",
            " |      Return self!=value.\n",
            " |  \n",
            " |  __repr__(self, /)\n",
            " |      Return repr(self).\n",
            " |  \n",
            " |  __reversed__(self, /)\n",
            " |      Return a reverse iterator over the list.\n",
            " |  \n",
            " |  __rmul__(self, value, /)\n",
            " |      Return value*self.\n",
            " |  \n",
            " |  __setitem__(self, key, value, /)\n",
            " |      Set self[key] to value.\n",
            " |  \n",
            " |  __sizeof__(self, /)\n",
            " |      Return the size of the list in memory, in bytes.\n",
            " |  \n",
            " |  append(self, object, /)\n",
            " |      Append object to the end of the list.\n",
            " |  \n",
            " |  clear(self, /)\n",
            " |      Remove all items from list.\n",
            " |  \n",
            " |  copy(self, /)\n",
            " |      Return a shallow copy of the list.\n",
            " |  \n",
            " |  count(self, value, /)\n",
            " |      Return number of occurrences of value.\n",
            " |  \n",
            " |  extend(self, iterable, /)\n",
            " |      Extend list by appending elements from the iterable.\n",
            " |  \n",
            " |  index(self, value, start=0, stop=9223372036854775807, /)\n",
            " |      Return first index of value.\n",
            " |      \n",
            " |      Raises ValueError if the value is not present.\n",
            " |  \n",
            " |  insert(self, index, object, /)\n",
            " |      Insert object before index.\n",
            " |  \n",
            " |  pop(self, index=-1, /)\n",
            " |      Remove and return item at index (default last).\n",
            " |      \n",
            " |      Raises IndexError if list is empty or index is out of range.\n",
            " |  \n",
            " |  remove(self, value, /)\n",
            " |      Remove first occurrence of value.\n",
            " |      \n",
            " |      Raises ValueError if the value is not present.\n",
            " |  \n",
            " |  reverse(self, /)\n",
            " |      Reverse *IN PLACE*.\n",
            " |  \n",
            " |  sort(self, /, *, key=None, reverse=False)\n",
            " |      Stable sort *IN PLACE*.\n",
            " |  \n",
            " |  ----------------------------------------------------------------------\n",
            " |  Static methods defined here:\n",
            " |  \n",
            " |  __new__(*args, **kwargs) from builtins.type\n",
            " |      Create and return a new object.  See help(type) for accurate signature.\n",
            " |  \n",
            " |  ----------------------------------------------------------------------\n",
            " |  Data and other attributes defined here:\n",
            " |  \n",
            " |  __hash__ = None\n",
            "\n"
          ],
          "name": "stdout"
        }
      ]
    },
    {
      "cell_type": "markdown",
      "metadata": {
        "id": "8hjs5PhZ4GMN"
      },
      "source": [
        "Source code of the object or function that you are interested in can be accessed using `??`. In some cases, not much information is displayed because the object or function is not written in Python. Therefore, this shortcut is often most useful with user defined functions. "
      ]
    },
    {
      "cell_type": "code",
      "metadata": {
        "collapsed": true,
        "id": "IW56D7zr4GMQ"
      },
      "source": [
        "list??"
      ],
      "execution_count": 71,
      "outputs": []
    },
    {
      "cell_type": "markdown",
      "metadata": {
        "id": "9EBx6Vcu4GMU"
      },
      "source": [
        "You can use the TAB key for autocompletion and exploration of the contents of objects or modules. Try typing `np.` followed by the TAB key in a code cell. "
      ]
    },
    {
      "cell_type": "code",
      "metadata": {
        "id": "ZgzZJcos4GMV"
      },
      "source": [
        "#np."
      ],
      "execution_count": 73,
      "outputs": []
    },
    {
      "cell_type": "markdown",
      "metadata": {
        "id": "DLdlGPBK4GMd"
      },
      "source": [
        "Wildcard matching is useful to search for every object in the name space that contains a particular string. For example, this code returns all objects which have *Warning* in the name:"
      ]
    },
    {
      "cell_type": "code",
      "metadata": {
        "collapsed": true,
        "id": "PfwonhTL4GMh"
      },
      "source": [
        "*Warning*?"
      ],
      "execution_count": 74,
      "outputs": []
    },
    {
      "cell_type": "markdown",
      "metadata": {
        "id": "X1eEVwuIW_dS"
      },
      "source": [
        "*magic* commands are on top of normal Python syntax and are designed to succintly solve common problems. We used the `%timeit` magic command earlier to compare the runtime of different Python commands. \n",
        "\n",
        "Magic commands come in two types: \n",
        "\n",
        "* *line magics* are denoted by a single % and operate on a single line of input\n",
        "\n",
        "* *cell magics* are denoted by a double prefix %% and operate on multiple lines of input\n"
      ]
    },
    {
      "cell_type": "code",
      "metadata": {
        "id": "5RnbcaXgYCqX"
      },
      "source": [
        "%magic"
      ],
      "execution_count": 75,
      "outputs": []
    },
    {
      "cell_type": "code",
      "metadata": {
        "colab": {
          "base_uri": "https://localhost:8080/",
          "height": 156
        },
        "id": "02ZLRu2pYd7c",
        "outputId": "9c424ab0-bb44-43dc-b120-baca67867c9b"
      },
      "source": [
        "#list all of the available magic commands\n",
        "%lsmagic"
      ],
      "execution_count": 76,
      "outputs": [
        {
          "output_type": "execute_result",
          "data": {
            "application/json": {
              "cell": {
                "prun": "ExecutionMagics",
                "file": "Other",
                "!": "OSMagics",
                "capture": "ExecutionMagics",
                "timeit": "ExecutionMagics",
                "script": "ScriptMagics",
                "pypy": "Other",
                "system": "OSMagics",
                "perl": "Other",
                "html": "DisplayMagics",
                "bash": "Other",
                "shell": "Other",
                "HTML": "Other",
                "python": "Other",
                "SVG": "Other",
                "javascript": "DisplayMagics",
                "bigquery": "Other",
                "js": "DisplayMagics",
                "writefile": "OSMagics",
                "ruby": "Other",
                "python3": "Other",
                "python2": "Other",
                "latex": "DisplayMagics",
                "sx": "OSMagics",
                "svg": "DisplayMagics",
                "sh": "Other",
                "time": "ExecutionMagics",
                "debug": "ExecutionMagics"
              },
              "line": {
                "psource": "NamespaceMagics",
                "logstart": "LoggingMagics",
                "popd": "OSMagics",
                "tensorflow_version": "Other",
                "loadpy": "CodeMagics",
                "colors": "BasicMagics",
                "who_ls": "NamespaceMagics",
                "lf": "Other",
                "ll": "Other",
                "pprint": "BasicMagics",
                "lk": "Other",
                "ls": "Other",
                "save": "CodeMagics",
                "tb": "ExecutionMagics",
                "lx": "Other",
                "pylab": "PylabMagics",
                "killbgscripts": "ScriptMagics",
                "quickref": "BasicMagics",
                "magic": "BasicMagics",
                "dhist": "OSMagics",
                "edit": "KernelMagics",
                "logstop": "LoggingMagics",
                "gui": "BasicMagics",
                "prun": "ExecutionMagics",
                "debug": "ExecutionMagics",
                "page": "BasicMagics",
                "logstate": "LoggingMagics",
                "ed": "Other",
                "pushd": "OSMagics",
                "timeit": "ExecutionMagics",
                "set_env": "OSMagics",
                "rehashx": "OSMagics",
                "hist": "Other",
                "qtconsole": "KernelMagics",
                "rm": "Other",
                "dirs": "OSMagics",
                "run": "ExecutionMagics",
                "reset_selective": "NamespaceMagics",
                "pinfo2": "NamespaceMagics",
                "matplotlib": "PylabMagics",
                "unload_ext": "ExtensionMagics",
                "doctest_mode": "BasicMagics",
                "logoff": "LoggingMagics",
                "reload_ext": "ExtensionMagics",
                "pdb": "ExecutionMagics",
                "load": "CodeMagics",
                "lsmagic": "BasicMagics",
                "autosave": "KernelMagics",
                "cd": "OSMagics",
                "pastebin": "CodeMagics",
                "alias_magic": "BasicMagics",
                "cp": "Other",
                "autocall": "AutoMagics",
                "ldir": "Other",
                "bookmark": "OSMagics",
                "connect_info": "KernelMagics",
                "mkdir": "Other",
                "system": "OSMagics",
                "whos": "NamespaceMagics",
                "rmdir": "Other",
                "automagic": "AutoMagics",
                "store": "StoreMagics",
                "more": "KernelMagics",
                "shell": "Other",
                "pdef": "NamespaceMagics",
                "precision": "BasicMagics",
                "pinfo": "NamespaceMagics",
                "pwd": "OSMagics",
                "psearch": "NamespaceMagics",
                "reset": "NamespaceMagics",
                "recall": "HistoryMagics",
                "xdel": "NamespaceMagics",
                "xmode": "BasicMagics",
                "cat": "Other",
                "mv": "Other",
                "rerun": "HistoryMagics",
                "logon": "LoggingMagics",
                "history": "HistoryMagics",
                "pycat": "OSMagics",
                "pip": "Other",
                "unalias": "OSMagics",
                "env": "OSMagics",
                "load_ext": "ExtensionMagics",
                "config": "ConfigMagics",
                "profile": "BasicMagics",
                "pfile": "NamespaceMagics",
                "less": "KernelMagics",
                "who": "NamespaceMagics",
                "notebook": "BasicMagics",
                "man": "KernelMagics",
                "sx": "OSMagics",
                "macro": "ExecutionMagics",
                "clear": "KernelMagics",
                "alias": "OSMagics",
                "time": "ExecutionMagics",
                "sc": "OSMagics",
                "rep": "Other",
                "pdoc": "NamespaceMagics"
              }
            },
            "text/plain": [
              "Available line magics:\n",
              "%alias  %alias_magic  %autocall  %automagic  %autosave  %bookmark  %cat  %cd  %clear  %colors  %config  %connect_info  %cp  %debug  %dhist  %dirs  %doctest_mode  %ed  %edit  %env  %gui  %hist  %history  %killbgscripts  %ldir  %less  %lf  %lk  %ll  %load  %load_ext  %loadpy  %logoff  %logon  %logstart  %logstate  %logstop  %ls  %lsmagic  %lx  %macro  %magic  %man  %matplotlib  %mkdir  %more  %mv  %notebook  %page  %pastebin  %pdb  %pdef  %pdoc  %pfile  %pinfo  %pinfo2  %pip  %popd  %pprint  %precision  %profile  %prun  %psearch  %psource  %pushd  %pwd  %pycat  %pylab  %qtconsole  %quickref  %recall  %rehashx  %reload_ext  %rep  %rerun  %reset  %reset_selective  %rm  %rmdir  %run  %save  %sc  %set_env  %shell  %store  %sx  %system  %tb  %tensorflow_version  %time  %timeit  %unalias  %unload_ext  %who  %who_ls  %whos  %xdel  %xmode\n",
              "\n",
              "Available cell magics:\n",
              "%%!  %%HTML  %%SVG  %%bash  %%bigquery  %%capture  %%debug  %%file  %%html  %%javascript  %%js  %%latex  %%perl  %%prun  %%pypy  %%python  %%python2  %%python3  %%ruby  %%script  %%sh  %%shell  %%svg  %%sx  %%system  %%time  %%timeit  %%writefile\n",
              "\n",
              "Automagic is ON, % prefix IS NOT needed for line magics."
            ]
          },
          "metadata": {
            "tags": []
          },
          "execution_count": 76
        }
      ]
    },
    {
      "cell_type": "markdown",
      "metadata": {
        "id": "0ctF_T5fZvc7"
      },
      "source": [
        "The `%history` magic command can be used to see the previously run commands. \n",
        "\n",
        "These options will print out the most recent 5 submitted commands"
      ]
    },
    {
      "cell_type": "code",
      "metadata": {
        "colab": {
          "base_uri": "https://localhost:8080/"
        },
        "id": "uQtlCSF4ZVZg",
        "outputId": "0a7ef980-2f82-44ed-eddb-f1407eb868ef"
      },
      "source": [
        "%history -l 5 -n \n"
      ],
      "execution_count": 77,
      "outputs": [
        {
          "output_type": "stream",
          "text": [
            "  72: np.\n",
            "  73: #np.\n",
            "  74: *Warning*?\n",
            "  75: %magic\n",
            "  76:\n",
            "#list all of the available magic commands\n",
            "%lsmagic\n"
          ],
          "name": "stdout"
        }
      ]
    },
    {
      "cell_type": "markdown",
      "metadata": {
        "id": "gKmOCKQZ4GMu"
      },
      "source": [
        "## Further References"
      ]
    },
    {
      "cell_type": "markdown",
      "metadata": {
        "id": "CG5QsOdz4GMz"
      },
      "source": [
        "Documentation on Pandas: https://pandas.pydata.org\n",
        "\n",
        "Documentation on NumPy: https://numpy.org\n",
        "\n",
        "Documentation on matplotlib: https://matplotlib.org\n",
        "\n",
        "\n",
        "*Python Data Science Handbook* by Jake VanderPlas"
      ]
    }
  ]
}